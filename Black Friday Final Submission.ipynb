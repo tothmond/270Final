{
 "cells": [
  {
   "cell_type": "markdown",
   "metadata": {},
   "source": [
    "# Raymond Toth Final Project"
   ]
  },
  {
   "cell_type": "code",
   "execution_count": 1,
   "metadata": {},
   "outputs": [],
   "source": [
    "# for numerical computing\n",
    "import numpy as np\n",
    "\n",
    "# for dataframes\n",
    "import pandas as pd\n",
    "\n",
    "# for easier visualization\n",
    "import seaborn as sns\n",
    "\n",
    "# for visualization and to display plots\n",
    "from matplotlib import pyplot as plt\n",
    "%matplotlib inline\n",
    "\n",
    "# import color maps\n",
    "from matplotlib.colors import ListedColormap\n",
    "\n",
    "# Ignore Warnings\n",
    "import warnings\n",
    "warnings.filterwarnings(\"ignore\")\n",
    "\n",
    "from math import sqrt\n",
    "\n",
    "# to split train and test set\n",
    "from sklearn.model_selection import train_test_split\n",
    "\n",
    "# to perform hyperparameter tuning\n",
    "from sklearn.model_selection import GridSearchCV\n",
    "from sklearn.model_selection import RandomizedSearchCV\n",
    "\n",
    "from sklearn.linear_model import Ridge  # Linear Regression + L2 regularization\n",
    "from sklearn.linear_model import Lasso  # Linear Regression + L1 regularization\n",
    "from sklearn.svm import SVR # Support Vector Regressor\n",
    "from sklearn.ensemble import RandomForestRegressor\n",
    "from sklearn.neighbors import KNeighborsRegressor \n",
    "from sklearn.model_selection import train_test_split\n",
    "from sklearn.tree import DecisionTreeRegressor\n",
    "\n",
    "# Evaluation Metrics\n",
    "from sklearn.metrics import mean_squared_error as mse\n",
    "from sklearn.metrics import r2_score as rs\n",
    "from sklearn.metrics import mean_absolute_error as mae\n",
    "\n",
    "#import xgboost\n",
    "#import os\n",
    "#mingw_path = 'C:\\\\Program Files\\\\mingw-w64\\\\x86_64-7.2.0-posix-seh-rt_v5-rev0\\\\mingw64\\\\bin'\n",
    "#os.environ['PATH'] = mingw_path + ';' + os.environ['PATH']\n",
    "#from xgboost import XGBRegressor\n",
    "#from xgboost import plot_importance  # to plot feature importance\n",
    "\n",
    "# to save the final model on disk\n",
    "from sklearn.externals import joblib"
   ]
  },
  {
   "cell_type": "code",
   "execution_count": 2,
   "metadata": {},
   "outputs": [],
   "source": [
    "np.set_printoptions(precision=2, suppress=True) #for printing floating point numbers upto  precision 2"
   ]
  },
  {
   "cell_type": "markdown",
   "metadata": {},
   "source": [
    "# Load Black Friday data from csv file "
   ]
  },
  {
   "cell_type": "code",
   "execution_count": 3,
   "metadata": {},
   "outputs": [],
   "source": [
    "df = pd.read_csv('BlackFriday 2.csv')"
   ]
  },
  {
   "cell_type": "code",
   "execution_count": 4,
   "metadata": {},
   "outputs": [
    {
     "data": {
      "text/plain": [
       "(537577, 12)"
      ]
     },
     "execution_count": 4,
     "metadata": {},
     "output_type": "execute_result"
    }
   ],
   "source": [
    "df.shape"
   ]
  },
  {
   "cell_type": "markdown",
   "metadata": {},
   "source": [
    "# List columns"
   ]
  },
  {
   "cell_type": "code",
   "execution_count": 5,
   "metadata": {},
   "outputs": [
    {
     "data": {
      "text/plain": [
       "['User_ID',\n",
       " 'Product_ID',\n",
       " 'Gender',\n",
       " 'Age',\n",
       " 'Occupation',\n",
       " 'City_Category',\n",
       " 'Stay_In_Current_City_Years',\n",
       " 'Marital_Status',\n",
       " 'Product_Category_1',\n",
       " 'Product_Category_2',\n",
       " 'Product_Category_3',\n",
       " 'Purchase']"
      ]
     },
     "execution_count": 5,
     "metadata": {},
     "output_type": "execute_result"
    }
   ],
   "source": [
    "list(df)"
   ]
  },
  {
   "cell_type": "code",
   "execution_count": 6,
   "metadata": {
    "scrolled": true
   },
   "outputs": [
    {
     "data": {
      "text/plain": [
       "Index(['User_ID', 'Product_ID', 'Gender', 'Age', 'Occupation', 'City_Category',\n",
       "       'Stay_In_Current_City_Years', 'Marital_Status', 'Product_Category_1',\n",
       "       'Product_Category_2', 'Product_Category_3', 'Purchase'],\n",
       "      dtype='object')"
      ]
     },
     "execution_count": 6,
     "metadata": {},
     "output_type": "execute_result"
    }
   ],
   "source": [
    "df.columns"
   ]
  },
  {
   "cell_type": "markdown",
   "metadata": {},
   "source": [
    "# Display head(5) to see example observations"
   ]
  },
  {
   "cell_type": "code",
   "execution_count": 7,
   "metadata": {},
   "outputs": [],
   "source": [
    "pd.set_option('display.max_columns', 20) # sets display max to two columns"
   ]
  },
  {
   "cell_type": "code",
   "execution_count": 8,
   "metadata": {},
   "outputs": [
    {
     "data": {
      "text/html": [
       "<div>\n",
       "<style scoped>\n",
       "    .dataframe tbody tr th:only-of-type {\n",
       "        vertical-align: middle;\n",
       "    }\n",
       "\n",
       "    .dataframe tbody tr th {\n",
       "        vertical-align: top;\n",
       "    }\n",
       "\n",
       "    .dataframe thead th {\n",
       "        text-align: right;\n",
       "    }\n",
       "</style>\n",
       "<table border=\"1\" class=\"dataframe\">\n",
       "  <thead>\n",
       "    <tr style=\"text-align: right;\">\n",
       "      <th></th>\n",
       "      <th>User_ID</th>\n",
       "      <th>Product_ID</th>\n",
       "      <th>Gender</th>\n",
       "      <th>Age</th>\n",
       "      <th>Occupation</th>\n",
       "      <th>City_Category</th>\n",
       "      <th>Stay_In_Current_City_Years</th>\n",
       "      <th>Marital_Status</th>\n",
       "      <th>Product_Category_1</th>\n",
       "      <th>Product_Category_2</th>\n",
       "      <th>Product_Category_3</th>\n",
       "      <th>Purchase</th>\n",
       "    </tr>\n",
       "  </thead>\n",
       "  <tbody>\n",
       "    <tr>\n",
       "      <th>0</th>\n",
       "      <td>1000001</td>\n",
       "      <td>P00069042</td>\n",
       "      <td>F</td>\n",
       "      <td>0-17</td>\n",
       "      <td>10</td>\n",
       "      <td>A</td>\n",
       "      <td>2</td>\n",
       "      <td>0</td>\n",
       "      <td>3</td>\n",
       "      <td>NaN</td>\n",
       "      <td>NaN</td>\n",
       "      <td>8370</td>\n",
       "    </tr>\n",
       "    <tr>\n",
       "      <th>1</th>\n",
       "      <td>1000001</td>\n",
       "      <td>P00248942</td>\n",
       "      <td>F</td>\n",
       "      <td>0-17</td>\n",
       "      <td>10</td>\n",
       "      <td>A</td>\n",
       "      <td>2</td>\n",
       "      <td>0</td>\n",
       "      <td>1</td>\n",
       "      <td>6.0</td>\n",
       "      <td>14.0</td>\n",
       "      <td>15200</td>\n",
       "    </tr>\n",
       "    <tr>\n",
       "      <th>2</th>\n",
       "      <td>1000001</td>\n",
       "      <td>P00087842</td>\n",
       "      <td>F</td>\n",
       "      <td>0-17</td>\n",
       "      <td>10</td>\n",
       "      <td>A</td>\n",
       "      <td>2</td>\n",
       "      <td>0</td>\n",
       "      <td>12</td>\n",
       "      <td>NaN</td>\n",
       "      <td>NaN</td>\n",
       "      <td>1422</td>\n",
       "    </tr>\n",
       "    <tr>\n",
       "      <th>3</th>\n",
       "      <td>1000001</td>\n",
       "      <td>P00085442</td>\n",
       "      <td>F</td>\n",
       "      <td>0-17</td>\n",
       "      <td>10</td>\n",
       "      <td>A</td>\n",
       "      <td>2</td>\n",
       "      <td>0</td>\n",
       "      <td>12</td>\n",
       "      <td>14.0</td>\n",
       "      <td>NaN</td>\n",
       "      <td>1057</td>\n",
       "    </tr>\n",
       "    <tr>\n",
       "      <th>4</th>\n",
       "      <td>1000002</td>\n",
       "      <td>P00285442</td>\n",
       "      <td>M</td>\n",
       "      <td>55+</td>\n",
       "      <td>16</td>\n",
       "      <td>C</td>\n",
       "      <td>4+</td>\n",
       "      <td>0</td>\n",
       "      <td>8</td>\n",
       "      <td>NaN</td>\n",
       "      <td>NaN</td>\n",
       "      <td>7969</td>\n",
       "    </tr>\n",
       "  </tbody>\n",
       "</table>\n",
       "</div>"
      ],
      "text/plain": [
       "   User_ID Product_ID Gender   Age  Occupation City_Category  \\\n",
       "0  1000001  P00069042      F  0-17          10             A   \n",
       "1  1000001  P00248942      F  0-17          10             A   \n",
       "2  1000001  P00087842      F  0-17          10             A   \n",
       "3  1000001  P00085442      F  0-17          10             A   \n",
       "4  1000002  P00285442      M   55+          16             C   \n",
       "\n",
       "  Stay_In_Current_City_Years  Marital_Status  Product_Category_1  \\\n",
       "0                          2               0                   3   \n",
       "1                          2               0                   1   \n",
       "2                          2               0                  12   \n",
       "3                          2               0                  12   \n",
       "4                         4+               0                   8   \n",
       "\n",
       "   Product_Category_2  Product_Category_3  Purchase  \n",
       "0                 NaN                 NaN      8370  \n",
       "1                 6.0                14.0     15200  \n",
       "2                 NaN                 NaN      1422  \n",
       "3                14.0                 NaN      1057  \n",
       "4                 NaN                 NaN      7969  "
      ]
     },
     "execution_count": 8,
     "metadata": {},
     "output_type": "execute_result"
    }
   ],
   "source": [
    "df.head(5)"
   ]
  },
  {
   "cell_type": "markdown",
   "metadata": {},
   "source": [
    "# Since some features are numeric and some are nominal, the nominal data must be filtered"
   ]
  },
  {
   "cell_type": "code",
   "execution_count": 9,
   "metadata": {},
   "outputs": [
    {
     "data": {
      "text/plain": [
       "Product_ID                    object\n",
       "Gender                        object\n",
       "Age                           object\n",
       "City_Category                 object\n",
       "Stay_In_Current_City_Years    object\n",
       "dtype: object"
      ]
     },
     "execution_count": 9,
     "metadata": {},
     "output_type": "execute_result"
    }
   ],
   "source": [
    "df.dtypes[df.dtypes == 'object']"
   ]
  },
  {
   "cell_type": "markdown",
   "metadata": {},
   "source": [
    "# Distribution of numerical features"
   ]
  },
  {
   "cell_type": "code",
   "execution_count": 10,
   "metadata": {},
   "outputs": [
    {
     "data": {
      "image/png": "[encoded data removed]",
      "text/plain": [
       "<Figure size 1152x1152 with 9 Axes>"
      ]
     },
     "metadata": {
      "needs_background": "light"
     },
     "output_type": "display_data"
    }
   ],
   "source": [
    "# PLotting histogram\n",
    "df.hist(figsize=(16,16), xrot=-45) ## sets figure size to 16 by 16 and rotates x axis labels by 45 degrees\n",
    "\n",
    "\n",
    "plt.show()"
   ]
  },
  {
   "cell_type": "markdown",
   "metadata": {},
   "source": [
    "# Observations about the Histograms\n",
    "There are more single individuals than married ones"
   ]
  },
  {
   "cell_type": "markdown",
   "metadata": {},
   "source": [
    "# Display Stats about the numerical features"
   ]
  },
  {
   "cell_type": "code",
   "execution_count": 11,
   "metadata": {},
   "outputs": [
    {
     "data": {
      "text/html": [
       "<div>\n",
       "<style scoped>\n",
       "    .dataframe tbody tr th:only-of-type {\n",
       "        vertical-align: middle;\n",
       "    }\n",
       "\n",
       "    .dataframe tbody tr th {\n",
       "        vertical-align: top;\n",
       "    }\n",
       "\n",
       "    .dataframe thead th {\n",
       "        text-align: right;\n",
       "    }\n",
       "</style>\n",
       "<table border=\"1\" class=\"dataframe\">\n",
       "  <thead>\n",
       "    <tr style=\"text-align: right;\">\n",
       "      <th></th>\n",
       "      <th>User_ID</th>\n",
       "      <th>Occupation</th>\n",
       "      <th>Marital_Status</th>\n",
       "      <th>Product_Category_1</th>\n",
       "      <th>Product_Category_2</th>\n",
       "      <th>Product_Category_3</th>\n",
       "      <th>Purchase</th>\n",
       "    </tr>\n",
       "  </thead>\n",
       "  <tbody>\n",
       "    <tr>\n",
       "      <th>count</th>\n",
       "      <td>5.375770e+05</td>\n",
       "      <td>537577.00000</td>\n",
       "      <td>537577.000000</td>\n",
       "      <td>537577.000000</td>\n",
       "      <td>370591.000000</td>\n",
       "      <td>164278.000000</td>\n",
       "      <td>537577.000000</td>\n",
       "    </tr>\n",
       "    <tr>\n",
       "      <th>mean</th>\n",
       "      <td>1.002992e+06</td>\n",
       "      <td>8.08271</td>\n",
       "      <td>0.408797</td>\n",
       "      <td>5.295546</td>\n",
       "      <td>9.842144</td>\n",
       "      <td>12.669840</td>\n",
       "      <td>9333.859853</td>\n",
       "    </tr>\n",
       "    <tr>\n",
       "      <th>std</th>\n",
       "      <td>1.714393e+03</td>\n",
       "      <td>6.52412</td>\n",
       "      <td>0.491612</td>\n",
       "      <td>3.750701</td>\n",
       "      <td>5.087259</td>\n",
       "      <td>4.124341</td>\n",
       "      <td>4981.022133</td>\n",
       "    </tr>\n",
       "    <tr>\n",
       "      <th>min</th>\n",
       "      <td>1.000001e+06</td>\n",
       "      <td>0.00000</td>\n",
       "      <td>0.000000</td>\n",
       "      <td>1.000000</td>\n",
       "      <td>2.000000</td>\n",
       "      <td>3.000000</td>\n",
       "      <td>185.000000</td>\n",
       "    </tr>\n",
       "    <tr>\n",
       "      <th>25%</th>\n",
       "      <td>1.001495e+06</td>\n",
       "      <td>2.00000</td>\n",
       "      <td>0.000000</td>\n",
       "      <td>1.000000</td>\n",
       "      <td>5.000000</td>\n",
       "      <td>9.000000</td>\n",
       "      <td>5866.000000</td>\n",
       "    </tr>\n",
       "    <tr>\n",
       "      <th>50%</th>\n",
       "      <td>1.003031e+06</td>\n",
       "      <td>7.00000</td>\n",
       "      <td>0.000000</td>\n",
       "      <td>5.000000</td>\n",
       "      <td>9.000000</td>\n",
       "      <td>14.000000</td>\n",
       "      <td>8062.000000</td>\n",
       "    </tr>\n",
       "    <tr>\n",
       "      <th>75%</th>\n",
       "      <td>1.004417e+06</td>\n",
       "      <td>14.00000</td>\n",
       "      <td>1.000000</td>\n",
       "      <td>8.000000</td>\n",
       "      <td>15.000000</td>\n",
       "      <td>16.000000</td>\n",
       "      <td>12073.000000</td>\n",
       "    </tr>\n",
       "    <tr>\n",
       "      <th>max</th>\n",
       "      <td>1.006040e+06</td>\n",
       "      <td>20.00000</td>\n",
       "      <td>1.000000</td>\n",
       "      <td>18.000000</td>\n",
       "      <td>18.000000</td>\n",
       "      <td>18.000000</td>\n",
       "      <td>23961.000000</td>\n",
       "    </tr>\n",
       "  </tbody>\n",
       "</table>\n",
       "</div>"
      ],
      "text/plain": [
       "            User_ID    Occupation  Marital_Status  Product_Category_1  \\\n",
       "count  5.375770e+05  537577.00000   537577.000000       537577.000000   \n",
       "mean   1.002992e+06       8.08271        0.408797            5.295546   \n",
       "std    1.714393e+03       6.52412        0.491612            3.750701   \n",
       "min    1.000001e+06       0.00000        0.000000            1.000000   \n",
       "25%    1.001495e+06       2.00000        0.000000            1.000000   \n",
       "50%    1.003031e+06       7.00000        0.000000            5.000000   \n",
       "75%    1.004417e+06      14.00000        1.000000            8.000000   \n",
       "max    1.006040e+06      20.00000        1.000000           18.000000   \n",
       "\n",
       "       Product_Category_2  Product_Category_3       Purchase  \n",
       "count       370591.000000       164278.000000  537577.000000  \n",
       "mean             9.842144           12.669840    9333.859853  \n",
       "std              5.087259            4.124341    4981.022133  \n",
       "min              2.000000            3.000000     185.000000  \n",
       "25%              5.000000            9.000000    5866.000000  \n",
       "50%              9.000000           14.000000    8062.000000  \n",
       "75%             15.000000           16.000000   12073.000000  \n",
       "max             18.000000           18.000000   23961.000000  "
      ]
     },
     "execution_count": 11,
     "metadata": {},
     "output_type": "execute_result"
    }
   ],
   "source": [
    "df.describe()"
   ]
  },
  {
   "cell_type": "markdown",
   "metadata": {},
   "source": [
    "# Observations about numerical stats:"
   ]
  },
  {
   "cell_type": "markdown",
   "metadata": {},
   "source": [
    "# Distribution of nominal features"
   ]
  },
  {
   "cell_type": "code",
   "execution_count": 12,
   "metadata": {},
   "outputs": [
    {
     "data": {
      "text/html": [
       "<div>\n",
       "<style scoped>\n",
       "    .dataframe tbody tr th:only-of-type {\n",
       "        vertical-align: middle;\n",
       "    }\n",
       "\n",
       "    .dataframe tbody tr th {\n",
       "        vertical-align: top;\n",
       "    }\n",
       "\n",
       "    .dataframe thead th {\n",
       "        text-align: right;\n",
       "    }\n",
       "</style>\n",
       "<table border=\"1\" class=\"dataframe\">\n",
       "  <thead>\n",
       "    <tr style=\"text-align: right;\">\n",
       "      <th></th>\n",
       "      <th>Product_ID</th>\n",
       "      <th>Gender</th>\n",
       "      <th>Age</th>\n",
       "      <th>City_Category</th>\n",
       "      <th>Stay_In_Current_City_Years</th>\n",
       "    </tr>\n",
       "  </thead>\n",
       "  <tbody>\n",
       "    <tr>\n",
       "      <th>count</th>\n",
       "      <td>537577</td>\n",
       "      <td>537577</td>\n",
       "      <td>537577</td>\n",
       "      <td>537577</td>\n",
       "      <td>537577</td>\n",
       "    </tr>\n",
       "    <tr>\n",
       "      <th>unique</th>\n",
       "      <td>3623</td>\n",
       "      <td>2</td>\n",
       "      <td>7</td>\n",
       "      <td>3</td>\n",
       "      <td>5</td>\n",
       "    </tr>\n",
       "    <tr>\n",
       "      <th>top</th>\n",
       "      <td>P00265242</td>\n",
       "      <td>M</td>\n",
       "      <td>26-35</td>\n",
       "      <td>B</td>\n",
       "      <td>1</td>\n",
       "    </tr>\n",
       "    <tr>\n",
       "      <th>freq</th>\n",
       "      <td>1858</td>\n",
       "      <td>405380</td>\n",
       "      <td>214690</td>\n",
       "      <td>226493</td>\n",
       "      <td>189192</td>\n",
       "    </tr>\n",
       "  </tbody>\n",
       "</table>\n",
       "</div>"
      ],
      "text/plain": [
       "       Product_ID  Gender     Age City_Category Stay_In_Current_City_Years\n",
       "count      537577  537577  537577        537577                     537577\n",
       "unique       3623       2       7             3                          5\n",
       "top     P00265242       M   26-35             B                          1\n",
       "freq         1858  405380  214690        226493                     189192"
      ]
     },
     "execution_count": 12,
     "metadata": {},
     "output_type": "execute_result"
    }
   ],
   "source": [
    "# displaying summary stats for nominal data\n",
    "df.describe(include = ['object'])"
   ]
  },
  {
   "cell_type": "markdown",
   "metadata": {},
   "source": [
    "# observations:"
   ]
  },
  {
   "cell_type": "markdown",
   "metadata": {},
   "source": [
    "# Bar plots for categorical features"
   ]
  },
  {
   "cell_type": "markdown",
   "metadata": {},
   "source": [
    "# Bar plot for 'Gender'"
   ]
  },
  {
   "cell_type": "code",
   "execution_count": 13,
   "metadata": {},
   "outputs": [
    {
     "data": {
      "text/plain": [
       "<matplotlib.axes._subplots.AxesSubplot at 0x247bb40f588>"
      ]
     },
     "execution_count": 13,
     "metadata": {},
     "output_type": "execute_result"
    },
    {
     "data": {
      "image/png": "[encoded data removed]",
      "text/plain": [
       "<Figure size 576x576 with 1 Axes>"
      ]
     },
     "metadata": {
      "needs_background": "light"
     },
     "output_type": "display_data"
    }
   ],
   "source": [
    "plt.figure(figsize = (8,8))\n",
    "sns.countplot(y = 'Gender', data = df)"
   ]
  },
  {
   "cell_type": "markdown",
   "metadata": {},
   "source": [
    "# Observations:\n",
    "Majority of shoppers are male; 400,000+ male and only about 120,000 female"
   ]
  },
  {
   "cell_type": "markdown",
   "metadata": {},
   "source": [
    "# Bar plot for 'Age'"
   ]
  },
  {
   "cell_type": "code",
   "execution_count": 14,
   "metadata": {},
   "outputs": [
    {
     "data": {
      "text/plain": [
       "<matplotlib.axes._subplots.AxesSubplot at 0x247bb44d400>"
      ]
     },
     "execution_count": 14,
     "metadata": {},
     "output_type": "execute_result"
    },
    {
     "data": {
      "image/png": "[encoded data removed]",
      "text/plain": [
       "<Figure size 576x576 with 1 Axes>"
      ]
     },
     "metadata": {
      "needs_background": "light"
     },
     "output_type": "display_data"
    }
   ],
   "source": [
    "plt.figure(figsize = (8,8))\n",
    "sns.countplot(y = 'Age', data = df)"
   ]
  },
  {
   "cell_type": "markdown",
   "metadata": {},
   "source": [
    "# Observation:\n",
    "Most shoppers between the age of 26-35"
   ]
  },
  {
   "cell_type": "markdown",
   "metadata": {},
   "source": [
    "# Bar plot for 'City_Category'"
   ]
  },
  {
   "cell_type": "code",
   "execution_count": 15,
   "metadata": {},
   "outputs": [
    {
     "data": {
      "text/plain": [
       "<matplotlib.axes._subplots.AxesSubplot at 0x247bb507588>"
      ]
     },
     "execution_count": 15,
     "metadata": {},
     "output_type": "execute_result"
    },
    {
     "data": {
      "image/png": "[encoded data removed]",
      "text/plain": [
       "<Figure size 576x576 with 1 Axes>"
      ]
     },
     "metadata": {
      "needs_background": "light"
     },
     "output_type": "display_data"
    }
   ],
   "source": [
    "plt.figure(figsize = (8,8))\n",
    "sns.countplot(y = 'City_Category', data = df)"
   ]
  },
  {
   "cell_type": "markdown",
   "metadata": {},
   "source": [
    "# Bar plot for 'Stay_In_Current_City_Years'"
   ]
  },
  {
   "cell_type": "code",
   "execution_count": 16,
   "metadata": {},
   "outputs": [
    {
     "data": {
      "text/plain": [
       "<matplotlib.axes._subplots.AxesSubplot at 0x247bb56d9b0>"
      ]
     },
     "execution_count": 16,
     "metadata": {},
     "output_type": "execute_result"
    },
    {
     "data": {
      "image/png": "[encoded data removed]",
      "text/plain": [
       "<Figure size 576x576 with 1 Axes>"
      ]
     },
     "metadata": {
      "needs_background": "light"
     },
     "output_type": "display_data"
    }
   ],
   "source": [
    "plt.figure(figsize = (8,8))\n",
    "sns.countplot(y = 'Stay_In_Current_City_Years', data = df)"
   ]
  },
  {
   "cell_type": "markdown",
   "metadata": {},
   "source": [
    "# Observation:\n",
    "Majority of the shoppers have only been staying in the city for one year, while the the count is about the same for the rest"
   ]
  },
  {
   "cell_type": "markdown",
   "metadata": {},
   "source": [
    "# Segmentations\n",
    "cutting the data to observe the relationship between nominal and numeric data"
   ]
  },
  {
   "cell_type": "code",
   "execution_count": 17,
   "metadata": {},
   "outputs": [
    {
     "data": {
      "text/plain": [
       "<matplotlib.axes._subplots.AxesSubplot at 0x247bb5486a0>"
      ]
     },
     "execution_count": 17,
     "metadata": {},
     "output_type": "execute_result"
    },
    {
     "data": {
      "image/png": "[encoded data removed]",
      "text/plain": [
       "<Figure size 432x288 with 1 Axes>"
      ]
     },
     "metadata": {
      "needs_background": "light"
     },
     "output_type": "display_data"
    }
   ],
   "source": [
    "sns.boxplot(y='Age', x='Purchase', data=df)"
   ]
  },
  {
   "cell_type": "markdown",
   "metadata": {},
   "source": [
    "# Observation:\n",
    "on average individuals made the same amount of purchases regardless of age except for some outliers"
   ]
  },
  {
   "cell_type": "code",
   "execution_count": 18,
   "metadata": {},
   "outputs": [
    {
     "data": {
      "text/html": [
       "<div>\n",
       "<style scoped>\n",
       "    .dataframe tbody tr th:only-of-type {\n",
       "        vertical-align: middle;\n",
       "    }\n",
       "\n",
       "    .dataframe tbody tr th {\n",
       "        vertical-align: top;\n",
       "    }\n",
       "\n",
       "    .dataframe thead th {\n",
       "        text-align: right;\n",
       "    }\n",
       "</style>\n",
       "<table border=\"1\" class=\"dataframe\">\n",
       "  <thead>\n",
       "    <tr style=\"text-align: right;\">\n",
       "      <th></th>\n",
       "      <th>User_ID</th>\n",
       "      <th>Occupation</th>\n",
       "      <th>Marital_Status</th>\n",
       "      <th>Product_Category_1</th>\n",
       "      <th>Product_Category_2</th>\n",
       "      <th>Product_Category_3</th>\n",
       "      <th>Purchase</th>\n",
       "    </tr>\n",
       "    <tr>\n",
       "      <th>Gender</th>\n",
       "      <th></th>\n",
       "      <th></th>\n",
       "      <th></th>\n",
       "      <th></th>\n",
       "      <th></th>\n",
       "      <th></th>\n",
       "      <th></th>\n",
       "    </tr>\n",
       "  </thead>\n",
       "  <tbody>\n",
       "    <tr>\n",
       "      <th>F</th>\n",
       "      <td>1.003088e+06</td>\n",
       "      <td>6.742672</td>\n",
       "      <td>0.417733</td>\n",
       "      <td>5.595445</td>\n",
       "      <td>10.007969</td>\n",
       "      <td>12.452318</td>\n",
       "      <td>8809.761349</td>\n",
       "    </tr>\n",
       "    <tr>\n",
       "      <th>M</th>\n",
       "      <td>1.002961e+06</td>\n",
       "      <td>8.519705</td>\n",
       "      <td>0.405883</td>\n",
       "      <td>5.197748</td>\n",
       "      <td>9.789072</td>\n",
       "      <td>12.732924</td>\n",
       "      <td>9504.771713</td>\n",
       "    </tr>\n",
       "  </tbody>\n",
       "</table>\n",
       "</div>"
      ],
      "text/plain": [
       "             User_ID  Occupation  Marital_Status  Product_Category_1  \\\n",
       "Gender                                                                 \n",
       "F       1.003088e+06    6.742672        0.417733            5.595445   \n",
       "M       1.002961e+06    8.519705        0.405883            5.197748   \n",
       "\n",
       "        Product_Category_2  Product_Category_3     Purchase  \n",
       "Gender                                                       \n",
       "F                10.007969           12.452318  8809.761349  \n",
       "M                 9.789072           12.732924  9504.771713  "
      ]
     },
     "execution_count": 18,
     "metadata": {},
     "output_type": "execute_result"
    }
   ],
   "source": [
    "# comparing genders across other features\n",
    "df.groupby('Gender').mean()"
   ]
  },
  {
   "cell_type": "markdown",
   "metadata": {},
   "source": [
    "# Observation:\n",
    "Males make more purchases than females"
   ]
  },
  {
   "cell_type": "code",
   "execution_count": 19,
   "metadata": {
    "scrolled": true
   },
   "outputs": [
    {
     "data": {
      "text/html": [
       "<div>\n",
       "<style scoped>\n",
       "    .dataframe tbody tr th:only-of-type {\n",
       "        vertical-align: middle;\n",
       "    }\n",
       "\n",
       "    .dataframe tbody tr th {\n",
       "        vertical-align: top;\n",
       "    }\n",
       "\n",
       "    .dataframe thead th {\n",
       "        text-align: right;\n",
       "    }\n",
       "</style>\n",
       "<table border=\"1\" class=\"dataframe\">\n",
       "  <thead>\n",
       "    <tr style=\"text-align: right;\">\n",
       "      <th></th>\n",
       "      <th>User_ID</th>\n",
       "      <th>Occupation</th>\n",
       "      <th>Product_Category_1</th>\n",
       "      <th>Product_Category_2</th>\n",
       "      <th>Product_Category_3</th>\n",
       "      <th>Purchase</th>\n",
       "    </tr>\n",
       "    <tr>\n",
       "      <th>Marital_Status</th>\n",
       "      <th></th>\n",
       "      <th></th>\n",
       "      <th></th>\n",
       "      <th></th>\n",
       "      <th></th>\n",
       "      <th></th>\n",
       "    </tr>\n",
       "  </thead>\n",
       "  <tbody>\n",
       "    <tr>\n",
       "      <th>0</th>\n",
       "      <td>1.002965e+06</td>\n",
       "      <td>7.948760</td>\n",
       "      <td>5.231467</td>\n",
       "      <td>9.778636</td>\n",
       "      <td>12.604030</td>\n",
       "      <td>9333.325467</td>\n",
       "    </tr>\n",
       "    <tr>\n",
       "      <th>1</th>\n",
       "      <td>1.003030e+06</td>\n",
       "      <td>8.276429</td>\n",
       "      <td>5.388219</td>\n",
       "      <td>9.935261</td>\n",
       "      <td>12.767646</td>\n",
       "      <td>9334.632681</td>\n",
       "    </tr>\n",
       "  </tbody>\n",
       "</table>\n",
       "</div>"
      ],
      "text/plain": [
       "                     User_ID  Occupation  Product_Category_1  \\\n",
       "Marital_Status                                                 \n",
       "0               1.002965e+06    7.948760            5.231467   \n",
       "1               1.003030e+06    8.276429            5.388219   \n",
       "\n",
       "                Product_Category_2  Product_Category_3     Purchase  \n",
       "Marital_Status                                                       \n",
       "0                         9.778636           12.604030  9333.325467  \n",
       "1                         9.935261           12.767646  9334.632681  "
      ]
     },
     "execution_count": 19,
     "metadata": {},
     "output_type": "execute_result"
    }
   ],
   "source": [
    "# comparing marital status across other features\n",
    "df.groupby('Marital_Status').mean()"
   ]
  },
  {
   "cell_type": "markdown",
   "metadata": {},
   "source": [
    "# Observation: \n",
    "Individuals make the same amount of purchases regardless of marital status"
   ]
  },
  {
   "cell_type": "markdown",
   "metadata": {},
   "source": [
    "# Segmenting by property_type and displaying the means and standard deviations within each class"
   ]
  },
  {
   "cell_type": "code",
   "execution_count": 20,
   "metadata": {},
   "outputs": [
    {
     "data": {
      "text/html": [
       "<div>\n",
       "<style scoped>\n",
       "    .dataframe tbody tr th:only-of-type {\n",
       "        vertical-align: middle;\n",
       "    }\n",
       "\n",
       "    .dataframe tbody tr th {\n",
       "        vertical-align: top;\n",
       "    }\n",
       "\n",
       "    .dataframe thead tr th {\n",
       "        text-align: left;\n",
       "    }\n",
       "\n",
       "    .dataframe thead tr:last-of-type th {\n",
       "        text-align: right;\n",
       "    }\n",
       "</style>\n",
       "<table border=\"1\" class=\"dataframe\">\n",
       "  <thead>\n",
       "    <tr>\n",
       "      <th></th>\n",
       "      <th colspan=\"2\" halign=\"left\">User_ID</th>\n",
       "      <th colspan=\"2\" halign=\"left\">Occupation</th>\n",
       "      <th colspan=\"2\" halign=\"left\">Marital_Status</th>\n",
       "      <th colspan=\"2\" halign=\"left\">Product_Category_1</th>\n",
       "      <th colspan=\"2\" halign=\"left\">Product_Category_2</th>\n",
       "      <th colspan=\"2\" halign=\"left\">Product_Category_3</th>\n",
       "      <th colspan=\"2\" halign=\"left\">Purchase</th>\n",
       "    </tr>\n",
       "    <tr>\n",
       "      <th></th>\n",
       "      <th>mean</th>\n",
       "      <th>std</th>\n",
       "      <th>mean</th>\n",
       "      <th>std</th>\n",
       "      <th>mean</th>\n",
       "      <th>std</th>\n",
       "      <th>mean</th>\n",
       "      <th>std</th>\n",
       "      <th>mean</th>\n",
       "      <th>std</th>\n",
       "      <th>mean</th>\n",
       "      <th>std</th>\n",
       "      <th>mean</th>\n",
       "      <th>std</th>\n",
       "    </tr>\n",
       "    <tr>\n",
       "      <th>Gender</th>\n",
       "      <th></th>\n",
       "      <th></th>\n",
       "      <th></th>\n",
       "      <th></th>\n",
       "      <th></th>\n",
       "      <th></th>\n",
       "      <th></th>\n",
       "      <th></th>\n",
       "      <th></th>\n",
       "      <th></th>\n",
       "      <th></th>\n",
       "      <th></th>\n",
       "      <th></th>\n",
       "      <th></th>\n",
       "    </tr>\n",
       "  </thead>\n",
       "  <tbody>\n",
       "    <tr>\n",
       "      <th>F</th>\n",
       "      <td>1.003088e+06</td>\n",
       "      <td>1774.236455</td>\n",
       "      <td>6.742672</td>\n",
       "      <td>6.242116</td>\n",
       "      <td>0.417733</td>\n",
       "      <td>0.493188</td>\n",
       "      <td>5.595445</td>\n",
       "      <td>3.476495</td>\n",
       "      <td>10.007969</td>\n",
       "      <td>4.872295</td>\n",
       "      <td>12.452318</td>\n",
       "      <td>4.126782</td>\n",
       "      <td>8809.761349</td>\n",
       "      <td>4721.440055</td>\n",
       "    </tr>\n",
       "    <tr>\n",
       "      <th>M</th>\n",
       "      <td>1.002961e+06</td>\n",
       "      <td>1693.251916</td>\n",
       "      <td>8.519705</td>\n",
       "      <td>6.554518</td>\n",
       "      <td>0.405883</td>\n",
       "      <td>0.491063</td>\n",
       "      <td>5.197748</td>\n",
       "      <td>3.830816</td>\n",
       "      <td>9.789072</td>\n",
       "      <td>5.153046</td>\n",
       "      <td>12.732924</td>\n",
       "      <td>4.121502</td>\n",
       "      <td>9504.771713</td>\n",
       "      <td>5051.057256</td>\n",
       "    </tr>\n",
       "  </tbody>\n",
       "</table>\n",
       "</div>"
      ],
      "text/plain": [
       "             User_ID              Occupation           Marital_Status  \\\n",
       "                mean          std       mean       std           mean   \n",
       "Gender                                                                  \n",
       "F       1.003088e+06  1774.236455   6.742672  6.242116       0.417733   \n",
       "M       1.002961e+06  1693.251916   8.519705  6.554518       0.405883   \n",
       "\n",
       "                 Product_Category_1           Product_Category_2            \\\n",
       "             std               mean       std               mean       std   \n",
       "Gender                                                                       \n",
       "F       0.493188           5.595445  3.476495          10.007969  4.872295   \n",
       "M       0.491063           5.197748  3.830816           9.789072  5.153046   \n",
       "\n",
       "       Product_Category_3               Purchase               \n",
       "                     mean       std         mean          std  \n",
       "Gender                                                         \n",
       "F               12.452318  4.126782  8809.761349  4721.440055  \n",
       "M               12.732924  4.121502  9504.771713  5051.057256  "
      ]
     },
     "execution_count": 20,
     "metadata": {},
     "output_type": "execute_result"
    }
   ],
   "source": [
    "df.groupby('Gender').agg([np.mean, np.std])"
   ]
  },
  {
   "cell_type": "markdown",
   "metadata": {},
   "source": [
    "# Correlations"
   ]
  },
  {
   "cell_type": "code",
   "execution_count": 21,
   "metadata": {},
   "outputs": [],
   "source": [
    "# Finally, let's take a look at the relationships between numeric features and other numeric features.\n",
    "# Correlation is a value between -1 and 1 that represents how closely values for two separate features.\n",
    "# Positive correlation means that as one feature increases, the other increases.\n",
    "# Negative correlation means that as one feature increases, the other decreases.\n",
    "# Correlations near -1 or 1 indicate a strong relationship.\n",
    "# Those closer to 0 indicate a weak relationship.\n",
    "# 0 indicates no relationship."
   ]
  },
  {
   "cell_type": "code",
   "execution_count": 22,
   "metadata": {},
   "outputs": [
    {
     "data": {
      "text/html": [
       "<div>\n",
       "<style scoped>\n",
       "    .dataframe tbody tr th:only-of-type {\n",
       "        vertical-align: middle;\n",
       "    }\n",
       "\n",
       "    .dataframe tbody tr th {\n",
       "        vertical-align: top;\n",
       "    }\n",
       "\n",
       "    .dataframe thead th {\n",
       "        text-align: right;\n",
       "    }\n",
       "</style>\n",
       "<table border=\"1\" class=\"dataframe\">\n",
       "  <thead>\n",
       "    <tr style=\"text-align: right;\">\n",
       "      <th></th>\n",
       "      <th>User_ID</th>\n",
       "      <th>Occupation</th>\n",
       "      <th>Marital_Status</th>\n",
       "      <th>Product_Category_1</th>\n",
       "      <th>Product_Category_2</th>\n",
       "      <th>Product_Category_3</th>\n",
       "      <th>Purchase</th>\n",
       "    </tr>\n",
       "  </thead>\n",
       "  <tbody>\n",
       "    <tr>\n",
       "      <th>User_ID</th>\n",
       "      <td>1.000000</td>\n",
       "      <td>-0.023024</td>\n",
       "      <td>0.018732</td>\n",
       "      <td>0.003687</td>\n",
       "      <td>0.001471</td>\n",
       "      <td>0.004045</td>\n",
       "      <td>0.005389</td>\n",
       "    </tr>\n",
       "    <tr>\n",
       "      <th>Occupation</th>\n",
       "      <td>-0.023024</td>\n",
       "      <td>1.000000</td>\n",
       "      <td>0.024691</td>\n",
       "      <td>-0.008114</td>\n",
       "      <td>-0.000031</td>\n",
       "      <td>0.013452</td>\n",
       "      <td>0.021104</td>\n",
       "    </tr>\n",
       "    <tr>\n",
       "      <th>Marital_Status</th>\n",
       "      <td>0.018732</td>\n",
       "      <td>0.024691</td>\n",
       "      <td>1.000000</td>\n",
       "      <td>0.020546</td>\n",
       "      <td>0.015116</td>\n",
       "      <td>0.019452</td>\n",
       "      <td>0.000129</td>\n",
       "    </tr>\n",
       "    <tr>\n",
       "      <th>Product_Category_1</th>\n",
       "      <td>0.003687</td>\n",
       "      <td>-0.008114</td>\n",
       "      <td>0.020546</td>\n",
       "      <td>1.000000</td>\n",
       "      <td>0.540423</td>\n",
       "      <td>0.229490</td>\n",
       "      <td>-0.314125</td>\n",
       "    </tr>\n",
       "    <tr>\n",
       "      <th>Product_Category_2</th>\n",
       "      <td>0.001471</td>\n",
       "      <td>-0.000031</td>\n",
       "      <td>0.015116</td>\n",
       "      <td>0.540423</td>\n",
       "      <td>1.000000</td>\n",
       "      <td>0.543544</td>\n",
       "      <td>-0.209973</td>\n",
       "    </tr>\n",
       "    <tr>\n",
       "      <th>Product_Category_3</th>\n",
       "      <td>0.004045</td>\n",
       "      <td>0.013452</td>\n",
       "      <td>0.019452</td>\n",
       "      <td>0.229490</td>\n",
       "      <td>0.543544</td>\n",
       "      <td>1.000000</td>\n",
       "      <td>-0.022257</td>\n",
       "    </tr>\n",
       "    <tr>\n",
       "      <th>Purchase</th>\n",
       "      <td>0.005389</td>\n",
       "      <td>0.021104</td>\n",
       "      <td>0.000129</td>\n",
       "      <td>-0.314125</td>\n",
       "      <td>-0.209973</td>\n",
       "      <td>-0.022257</td>\n",
       "      <td>1.000000</td>\n",
       "    </tr>\n",
       "  </tbody>\n",
       "</table>\n",
       "</div>"
      ],
      "text/plain": [
       "                     User_ID  Occupation  Marital_Status  Product_Category_1  \\\n",
       "User_ID             1.000000   -0.023024        0.018732            0.003687   \n",
       "Occupation         -0.023024    1.000000        0.024691           -0.008114   \n",
       "Marital_Status      0.018732    0.024691        1.000000            0.020546   \n",
       "Product_Category_1  0.003687   -0.008114        0.020546            1.000000   \n",
       "Product_Category_2  0.001471   -0.000031        0.015116            0.540423   \n",
       "Product_Category_3  0.004045    0.013452        0.019452            0.229490   \n",
       "Purchase            0.005389    0.021104        0.000129           -0.314125   \n",
       "\n",
       "                    Product_Category_2  Product_Category_3  Purchase  \n",
       "User_ID                       0.001471            0.004045  0.005389  \n",
       "Occupation                   -0.000031            0.013452  0.021104  \n",
       "Marital_Status                0.015116            0.019452  0.000129  \n",
       "Product_Category_1            0.540423            0.229490 -0.314125  \n",
       "Product_Category_2            1.000000            0.543544 -0.209973  \n",
       "Product_Category_3            0.543544            1.000000 -0.022257  \n",
       "Purchase                     -0.209973           -0.022257  1.000000  "
      ]
     },
     "execution_count": 22,
     "metadata": {},
     "output_type": "execute_result"
    }
   ],
   "source": [
    "df.corr()"
   ]
  },
  {
   "cell_type": "code",
   "execution_count": 23,
   "metadata": {},
   "outputs": [
    {
     "data": {
      "text/plain": [
       "<matplotlib.axes._subplots.AxesSubplot at 0x247bb446cf8>"
      ]
     },
     "execution_count": 23,
     "metadata": {},
     "output_type": "execute_result"
    },
    {
     "data": {
      "image/png": "[encoded data removed]",
      "text/plain": [
       "<Figure size 1440x1440 with 2 Axes>"
      ]
     },
     "metadata": {
      "needs_background": "light"
     },
     "output_type": "display_data"
    }
   ],
   "source": [
    "plt.figure(figsize=(20,20))\n",
    "sns.heatmap(df.corr())"
   ]
  },
  {
   "cell_type": "code",
   "execution_count": 24,
   "metadata": {},
   "outputs": [
    {
     "data": {
      "image/png": "[encoded data removed]",
      "text/plain": [
       "<Figure size 720x720 with 2 Axes>"
      ]
     },
     "metadata": {
      "needs_background": "light"
     },
     "output_type": "display_data"
    }
   ],
   "source": [
    "mask=np.zeros_like(df.corr())\n",
    "mask[np.triu_indices_from(mask)] = True\n",
    "plt.figure(figsize=(10,10))\n",
    "with sns.axes_style(\"white\"):\n",
    "    ax = sns.heatmap(df.corr()*100, mask=mask, fmt='.0f', annot=True, lw=1, cmap=ListedColormap(['green', 'yellow', 'red','blue']))"
   ]
  },
  {
   "cell_type": "markdown",
   "metadata": {},
   "source": [
    "# Data Cleaning"
   ]
  },
  {
   "cell_type": "code",
   "execution_count": 25,
   "metadata": {},
   "outputs": [],
   "source": [
    "# Dropping the duplicates (De-duplication)"
   ]
  },
  {
   "cell_type": "code",
   "execution_count": 26,
   "metadata": {},
   "outputs": [
    {
     "name": "stdout",
     "output_type": "stream",
     "text": [
      "(537577, 12)\n"
     ]
    }
   ],
   "source": [
    "df = df.drop_duplicates()\n",
    "print( df.shape )"
   ]
  },
  {
   "cell_type": "code",
   "execution_count": 27,
   "metadata": {},
   "outputs": [],
   "source": [
    "# It looks like we didn't have any duplicates in our original dataset. \n",
    "# Even so, it's a good idea to check this as an easy first step for cleaning your dataset"
   ]
  },
  {
   "cell_type": "code",
   "execution_count": 28,
   "metadata": {
    "scrolled": false
   },
   "outputs": [
    {
     "data": {
      "text/plain": [
       "User_ID                    0\n",
       "Occupation                 0\n",
       "Marital_Status             0\n",
       "Product_Category_1         0\n",
       "Product_Category_2    166986\n",
       "Product_Category_3    373299\n",
       "Purchase                   0\n",
       "dtype: int64"
      ]
     },
     "execution_count": 28,
     "metadata": {},
     "output_type": "execute_result"
    }
   ],
   "source": [
    "# Display number of missing values by numeric feature\n",
    "df.select_dtypes(exclude=['object']).isnull().sum()"
   ]
  },
  {
   "cell_type": "code",
   "execution_count": 29,
   "metadata": {},
   "outputs": [],
   "source": [
    "# Product_Category_2 and Product_Category_3 have a lot of missing values"
   ]
  },
  {
   "cell_type": "code",
   "execution_count": 30,
   "metadata": {},
   "outputs": [
    {
     "data": {
      "text/plain": [
       "User_ID               0\n",
       "Occupation            0\n",
       "Marital_Status        0\n",
       "Product_Category_1    0\n",
       "Product_Category_2    0\n",
       "Product_Category_3    0\n",
       "Purchase              0\n",
       "dtype: int64"
      ]
     },
     "execution_count": 30,
     "metadata": {},
     "output_type": "execute_result"
    }
   ],
   "source": [
    "# replacing missing values with a value of 0\n",
    "df['Product_Category_2'] = df['Product_Category_2'].fillna(0)\n",
    "df['Product_Category_3'] = df['Product_Category_3'].fillna(0)\n",
    "df.select_dtypes(exclude=['object']).isnull().sum()"
   ]
  },
  {
   "cell_type": "code",
   "execution_count": 31,
   "metadata": {
    "scrolled": false
   },
   "outputs": [
    {
     "data": {
      "text/plain": [
       "Product_ID                    0\n",
       "Gender                        0\n",
       "Age                           0\n",
       "City_Category                 0\n",
       "Stay_In_Current_City_Years    0\n",
       "dtype: int64"
      ]
     },
     "execution_count": 31,
     "metadata": {},
     "output_type": "execute_result"
    }
   ],
   "source": [
    "# Display number of missing values by categorical feature\n",
    "df.select_dtypes(include=['object']).isnull().sum()"
   ]
  },
  {
   "cell_type": "code",
   "execution_count": 32,
   "metadata": {},
   "outputs": [],
   "source": [
    "df = df.drop(['Product_ID', 'User_ID'], axis=1) # dropping because they may cause problems in the models "
   ]
  },
  {
   "cell_type": "code",
   "execution_count": 33,
   "metadata": {},
   "outputs": [],
   "source": [
    "# no missing data in nominal data"
   ]
  },
  {
   "cell_type": "markdown",
   "metadata": {},
   "source": [
    "# Checking for outliers as they may cause problems with certain models \n",
    "# Here we are using box plots"
   ]
  },
  {
   "cell_type": "code",
   "execution_count": 34,
   "metadata": {},
   "outputs": [
    {
     "data": {
      "text/plain": [
       "<matplotlib.axes._subplots.AxesSubplot at 0x247bb655978>"
      ]
     },
     "execution_count": 34,
     "metadata": {},
     "output_type": "execute_result"
    },
    {
     "data": {
      "image/png": "[encoded data removed]",
      "text/plain": [
       "<Figure size 432x288 with 1 Axes>"
      ]
     },
     "metadata": {
      "needs_background": "light"
     },
     "output_type": "display_data"
    }
   ],
   "source": [
    "sns.boxplot(df.Purchase)"
   ]
  },
  {
   "cell_type": "code",
   "execution_count": 35,
   "metadata": {},
   "outputs": [],
   "source": [
    "# purchase includes a few outliers that may affect our models, let's handle some of them"
   ]
  },
  {
   "cell_type": "code",
   "execution_count": 36,
   "metadata": {},
   "outputs": [],
   "source": [
    "df = df[df.Purchase <= 22500]"
   ]
  },
  {
   "cell_type": "code",
   "execution_count": 37,
   "metadata": {},
   "outputs": [
    {
     "data": {
      "text/plain": [
       "<matplotlib.axes._subplots.AxesSubplot at 0x247bb69b358>"
      ]
     },
     "execution_count": 37,
     "metadata": {},
     "output_type": "execute_result"
    },
    {
     "data": {
      "image/png": "[encoded data removed]",
      "text/plain": [
       "<Figure size 432x288 with 1 Axes>"
      ]
     },
     "metadata": {
      "needs_background": "light"
     },
     "output_type": "display_data"
    }
   ],
   "source": [
    "sns.boxplot(df.Purchase)"
   ]
  },
  {
   "cell_type": "code",
   "execution_count": 38,
   "metadata": {
    "scrolled": false
   },
   "outputs": [
    {
     "data": {
      "text/plain": [
       "<matplotlib.axes._subplots.AxesSubplot at 0x247bb6ee4e0>"
      ]
     },
     "execution_count": 38,
     "metadata": {},
     "output_type": "execute_result"
    },
    {
     "data": {
      "image/png": "[encoded data removed]",
      "text/plain": [
       "<Figure size 432x288 with 1 Axes>"
      ]
     },
     "metadata": {
      "needs_background": "light"
     },
     "output_type": "display_data"
    }
   ],
   "source": [
    "sns.boxplot(df.Product_Category_1)"
   ]
  },
  {
   "cell_type": "code",
   "execution_count": 39,
   "metadata": {},
   "outputs": [
    {
     "data": {
      "text/plain": [
       "<matplotlib.axes._subplots.AxesSubplot at 0x247bb73f748>"
      ]
     },
     "execution_count": 39,
     "metadata": {},
     "output_type": "execute_result"
    },
    {
     "data": {
      "image/png": "[encoded data removed]",
      "text/plain": [
       "<Figure size 432x288 with 1 Axes>"
      ]
     },
     "metadata": {
      "needs_background": "light"
     },
     "output_type": "display_data"
    }
   ],
   "source": [
    "sns.boxplot(df.Product_Category_2)"
   ]
  },
  {
   "cell_type": "code",
   "execution_count": 40,
   "metadata": {},
   "outputs": [
    {
     "data": {
      "text/plain": [
       "<matplotlib.axes._subplots.AxesSubplot at 0x247bb79ba90>"
      ]
     },
     "execution_count": 40,
     "metadata": {},
     "output_type": "execute_result"
    },
    {
     "data": {
      "image/png": "[encoded data removed]",
      "text/plain": [
       "<Figure size 432x288 with 1 Axes>"
      ]
     },
     "metadata": {
      "needs_background": "light"
     },
     "output_type": "display_data"
    }
   ],
   "source": [
    "sns.boxplot(df.Product_Category_3)"
   ]
  },
  {
   "cell_type": "code",
   "execution_count": 41,
   "metadata": {},
   "outputs": [
    {
     "data": {
      "text/plain": [
       "<matplotlib.axes._subplots.AxesSubplot at 0x247bc1247f0>"
      ]
     },
     "execution_count": 41,
     "metadata": {},
     "output_type": "execute_result"
    },
    {
     "data": {
      "image/png": "[encoded data removed]",
      "text/plain": [
       "<Figure size 432x288 with 1 Axes>"
      ]
     },
     "metadata": {
      "needs_background": "light"
     },
     "output_type": "display_data"
    }
   ],
   "source": [
    "sns.boxplot(df.Occupation)"
   ]
  },
  {
   "cell_type": "code",
   "execution_count": 42,
   "metadata": {},
   "outputs": [],
   "source": [
    "# Removing marital status because as seen earlier, \n",
    "# individuals had on average the same value of Purchase regardless of marital status"
   ]
  },
  {
   "cell_type": "code",
   "execution_count": 43,
   "metadata": {},
   "outputs": [],
   "source": [
    "df = df.drop(['Marital_Status'], axis=1)"
   ]
  },
  {
   "cell_type": "markdown",
   "metadata": {},
   "source": [
    "# Saving the new data frame so cleaning won't have to be re-done after classing"
   ]
  },
  {
   "cell_type": "code",
   "execution_count": 44,
   "metadata": {},
   "outputs": [],
   "source": [
    "df.to_csv(r'C:\\Users\\Mondy\\Desktop\\cleandf.csv', index=False)"
   ]
  },
  {
   "cell_type": "markdown",
   "metadata": {},
   "source": [
    "# Encoding the dummy variables AKA one hot encoding"
   ]
  },
  {
   "cell_type": "code",
   "execution_count": 45,
   "metadata": {},
   "outputs": [],
   "source": [
    "# Since machine learning algorithms cannot directly handle nominal features, especially text values, we must create dummy \n",
    "# variables for our categorical features.\n",
    "# Dummy variables can either be 0 or 1 (binary) features that represent a single class from a categorical feature."
   ]
  },
  {
   "cell_type": "code",
   "execution_count": 46,
   "metadata": {},
   "outputs": [],
   "source": [
    "# Let's create a new data frame with dummy variables for each of our categorical features \n",
    "df = pd.get_dummies(df, columns=['Gender', 'Age', 'City_Category', 'Stay_In_Current_City_Years'])"
   ]
  },
  {
   "cell_type": "code",
   "execution_count": 47,
   "metadata": {
    "scrolled": true
   },
   "outputs": [
    {
     "data": {
      "text/html": [
       "<div>\n",
       "<style scoped>\n",
       "    .dataframe tbody tr th:only-of-type {\n",
       "        vertical-align: middle;\n",
       "    }\n",
       "\n",
       "    .dataframe tbody tr th {\n",
       "        vertical-align: top;\n",
       "    }\n",
       "\n",
       "    .dataframe thead th {\n",
       "        text-align: right;\n",
       "    }\n",
       "</style>\n",
       "<table border=\"1\" class=\"dataframe\">\n",
       "  <thead>\n",
       "    <tr style=\"text-align: right;\">\n",
       "      <th></th>\n",
       "      <th>Occupation</th>\n",
       "      <th>Product_Category_1</th>\n",
       "      <th>Product_Category_2</th>\n",
       "      <th>Product_Category_3</th>\n",
       "      <th>Purchase</th>\n",
       "      <th>Gender_F</th>\n",
       "      <th>Gender_M</th>\n",
       "      <th>Age_0-17</th>\n",
       "      <th>Age_18-25</th>\n",
       "      <th>Age_26-35</th>\n",
       "      <th>...</th>\n",
       "      <th>Age_51-55</th>\n",
       "      <th>Age_55+</th>\n",
       "      <th>City_Category_A</th>\n",
       "      <th>City_Category_B</th>\n",
       "      <th>City_Category_C</th>\n",
       "      <th>Stay_In_Current_City_Years_0</th>\n",
       "      <th>Stay_In_Current_City_Years_1</th>\n",
       "      <th>Stay_In_Current_City_Years_2</th>\n",
       "      <th>Stay_In_Current_City_Years_3</th>\n",
       "      <th>Stay_In_Current_City_Years_4+</th>\n",
       "    </tr>\n",
       "  </thead>\n",
       "  <tbody>\n",
       "    <tr>\n",
       "      <th>0</th>\n",
       "      <td>10</td>\n",
       "      <td>3</td>\n",
       "      <td>0.0</td>\n",
       "      <td>0.0</td>\n",
       "      <td>8370</td>\n",
       "      <td>1</td>\n",
       "      <td>0</td>\n",
       "      <td>1</td>\n",
       "      <td>0</td>\n",
       "      <td>0</td>\n",
       "      <td>...</td>\n",
       "      <td>0</td>\n",
       "      <td>0</td>\n",
       "      <td>1</td>\n",
       "      <td>0</td>\n",
       "      <td>0</td>\n",
       "      <td>0</td>\n",
       "      <td>0</td>\n",
       "      <td>1</td>\n",
       "      <td>0</td>\n",
       "      <td>0</td>\n",
       "    </tr>\n",
       "    <tr>\n",
       "      <th>1</th>\n",
       "      <td>10</td>\n",
       "      <td>1</td>\n",
       "      <td>6.0</td>\n",
       "      <td>14.0</td>\n",
       "      <td>15200</td>\n",
       "      <td>1</td>\n",
       "      <td>0</td>\n",
       "      <td>1</td>\n",
       "      <td>0</td>\n",
       "      <td>0</td>\n",
       "      <td>...</td>\n",
       "      <td>0</td>\n",
       "      <td>0</td>\n",
       "      <td>1</td>\n",
       "      <td>0</td>\n",
       "      <td>0</td>\n",
       "      <td>0</td>\n",
       "      <td>0</td>\n",
       "      <td>1</td>\n",
       "      <td>0</td>\n",
       "      <td>0</td>\n",
       "    </tr>\n",
       "    <tr>\n",
       "      <th>2</th>\n",
       "      <td>10</td>\n",
       "      <td>12</td>\n",
       "      <td>0.0</td>\n",
       "      <td>0.0</td>\n",
       "      <td>1422</td>\n",
       "      <td>1</td>\n",
       "      <td>0</td>\n",
       "      <td>1</td>\n",
       "      <td>0</td>\n",
       "      <td>0</td>\n",
       "      <td>...</td>\n",
       "      <td>0</td>\n",
       "      <td>0</td>\n",
       "      <td>1</td>\n",
       "      <td>0</td>\n",
       "      <td>0</td>\n",
       "      <td>0</td>\n",
       "      <td>0</td>\n",
       "      <td>1</td>\n",
       "      <td>0</td>\n",
       "      <td>0</td>\n",
       "    </tr>\n",
       "    <tr>\n",
       "      <th>3</th>\n",
       "      <td>10</td>\n",
       "      <td>12</td>\n",
       "      <td>14.0</td>\n",
       "      <td>0.0</td>\n",
       "      <td>1057</td>\n",
       "      <td>1</td>\n",
       "      <td>0</td>\n",
       "      <td>1</td>\n",
       "      <td>0</td>\n",
       "      <td>0</td>\n",
       "      <td>...</td>\n",
       "      <td>0</td>\n",
       "      <td>0</td>\n",
       "      <td>1</td>\n",
       "      <td>0</td>\n",
       "      <td>0</td>\n",
       "      <td>0</td>\n",
       "      <td>0</td>\n",
       "      <td>1</td>\n",
       "      <td>0</td>\n",
       "      <td>0</td>\n",
       "    </tr>\n",
       "    <tr>\n",
       "      <th>4</th>\n",
       "      <td>16</td>\n",
       "      <td>8</td>\n",
       "      <td>0.0</td>\n",
       "      <td>0.0</td>\n",
       "      <td>7969</td>\n",
       "      <td>0</td>\n",
       "      <td>1</td>\n",
       "      <td>0</td>\n",
       "      <td>0</td>\n",
       "      <td>0</td>\n",
       "      <td>...</td>\n",
       "      <td>0</td>\n",
       "      <td>1</td>\n",
       "      <td>0</td>\n",
       "      <td>0</td>\n",
       "      <td>1</td>\n",
       "      <td>0</td>\n",
       "      <td>0</td>\n",
       "      <td>0</td>\n",
       "      <td>0</td>\n",
       "      <td>1</td>\n",
       "    </tr>\n",
       "  </tbody>\n",
       "</table>\n",
       "<p>5 rows × 22 columns</p>\n",
       "</div>"
      ],
      "text/plain": [
       "   Occupation  Product_Category_1  Product_Category_2  Product_Category_3  \\\n",
       "0          10                   3                 0.0                 0.0   \n",
       "1          10                   1                 6.0                14.0   \n",
       "2          10                  12                 0.0                 0.0   \n",
       "3          10                  12                14.0                 0.0   \n",
       "4          16                   8                 0.0                 0.0   \n",
       "\n",
       "   Purchase  Gender_F  Gender_M  Age_0-17  Age_18-25  Age_26-35  ...  \\\n",
       "0      8370         1         0         1          0          0  ...   \n",
       "1     15200         1         0         1          0          0  ...   \n",
       "2      1422         1         0         1          0          0  ...   \n",
       "3      1057         1         0         1          0          0  ...   \n",
       "4      7969         0         1         0          0          0  ...   \n",
       "\n",
       "   Age_51-55  Age_55+  City_Category_A  City_Category_B  City_Category_C  \\\n",
       "0          0        0                1                0                0   \n",
       "1          0        0                1                0                0   \n",
       "2          0        0                1                0                0   \n",
       "3          0        0                1                0                0   \n",
       "4          0        1                0                0                1   \n",
       "\n",
       "   Stay_In_Current_City_Years_0  Stay_In_Current_City_Years_1  \\\n",
       "0                             0                             0   \n",
       "1                             0                             0   \n",
       "2                             0                             0   \n",
       "3                             0                             0   \n",
       "4                             0                             0   \n",
       "\n",
       "   Stay_In_Current_City_Years_2  Stay_In_Current_City_Years_3  \\\n",
       "0                             1                             0   \n",
       "1                             1                             0   \n",
       "2                             1                             0   \n",
       "3                             1                             0   \n",
       "4                             0                             0   \n",
       "\n",
       "   Stay_In_Current_City_Years_4+  \n",
       "0                              0  \n",
       "1                              0  \n",
       "2                              0  \n",
       "3                              0  \n",
       "4                              1  \n",
       "\n",
       "[5 rows x 22 columns]"
      ]
     },
     "execution_count": 47,
     "metadata": {},
     "output_type": "execute_result"
    }
   ],
   "source": [
    "df.head()"
   ]
  },
  {
   "cell_type": "markdown",
   "metadata": {},
   "source": [
    "# Data Prep"
   ]
  },
  {
   "cell_type": "code",
   "execution_count": 48,
   "metadata": {},
   "outputs": [],
   "source": [
    "# Save analytical base table\n",
    "df.to_csv(r'C:\\Users\\Mondy\\Desktop\\analyticaldf.csv', index=None)"
   ]
  },
  {
   "cell_type": "code",
   "execution_count": 49,
   "metadata": {},
   "outputs": [],
   "source": [
    "df = pd.read_csv('analyticaldf.csv')"
   ]
  },
  {
   "cell_type": "markdown",
   "metadata": {},
   "source": [
    "# train and test split"
   ]
  },
  {
   "cell_type": "code",
   "execution_count": 50,
   "metadata": {},
   "outputs": [],
   "source": [
    "# separating the dataframe into different objects for the target variable y (Purchase)\n",
    "# and the input features x and performing the train and test split"
   ]
  },
  {
   "cell_type": "code",
   "execution_count": 51,
   "metadata": {},
   "outputs": [],
   "source": [
    "y = df.Purchase # object for target\n",
    "X = df.drop('Purchase', axis = 1) # creating an object of all features except the target as the input features"
   ]
  },
  {
   "cell_type": "code",
   "execution_count": 52,
   "metadata": {},
   "outputs": [],
   "source": [
    "# split the x and y into train and test sets as an 80/20 split\n",
    "X_train, X_test, y_train, y_test = train_test_split(X, y, test_size=0.2, random_state=1234)"
   ]
  },
  {
   "cell_type": "code",
   "execution_count": 53,
   "metadata": {},
   "outputs": [],
   "source": [
    "# confirming that the observations were split accordingly"
   ]
  },
  {
   "cell_type": "code",
   "execution_count": 54,
   "metadata": {},
   "outputs": [
    {
     "name": "stdout",
     "output_type": "stream",
     "text": [
      "(428208, 21) (107053, 21) (428208,) (107053,)\n"
     ]
    }
   ],
   "source": [
    "print(X_train.shape, X_test.shape, y_train.shape, y_test.shape)"
   ]
  },
  {
   "cell_type": "markdown",
   "metadata": {},
   "source": [
    "# Data Standardization"
   ]
  },
  {
   "cell_type": "code",
   "execution_count": 55,
   "metadata": {},
   "outputs": [],
   "source": [
    "# During data standardization, we perform zero mean centering and unit scaling,\n",
    "# this means we make the mean of all features 0 and the standard deviation 1.\n",
    "# We use mean and standard deviation of each feature\n",
    "# It is important that the mean and standard deviation of each of the features from the training set\n",
    "# are saved because we use the same mean and standard deviation from the test set"
   ]
  },
  {
   "cell_type": "code",
   "execution_count": 56,
   "metadata": {},
   "outputs": [],
   "source": [
    "\n",
    "train_mean = X_train.mean()\n",
    "train_std = X_train.std()"
   ]
  },
  {
   "cell_type": "code",
   "execution_count": 57,
   "metadata": {},
   "outputs": [],
   "source": [
    "# Standardizing the train data set\n",
    "X_train = (X_train - train_mean) / train_std"
   ]
  },
  {
   "cell_type": "code",
   "execution_count": 58,
   "metadata": {},
   "outputs": [],
   "source": [
    "# check for the mean and standard deviation"
   ]
  },
  {
   "cell_type": "code",
   "execution_count": 59,
   "metadata": {},
   "outputs": [
    {
     "data": {
      "text/html": [
       "<div>\n",
       "<style scoped>\n",
       "    .dataframe tbody tr th:only-of-type {\n",
       "        vertical-align: middle;\n",
       "    }\n",
       "\n",
       "    .dataframe tbody tr th {\n",
       "        vertical-align: top;\n",
       "    }\n",
       "\n",
       "    .dataframe thead th {\n",
       "        text-align: right;\n",
       "    }\n",
       "</style>\n",
       "<table border=\"1\" class=\"dataframe\">\n",
       "  <thead>\n",
       "    <tr style=\"text-align: right;\">\n",
       "      <th></th>\n",
       "      <th>Occupation</th>\n",
       "      <th>Product_Category_1</th>\n",
       "      <th>Product_Category_2</th>\n",
       "      <th>Product_Category_3</th>\n",
       "      <th>Gender_F</th>\n",
       "      <th>Gender_M</th>\n",
       "      <th>Age_0-17</th>\n",
       "      <th>Age_18-25</th>\n",
       "      <th>Age_26-35</th>\n",
       "      <th>Age_36-45</th>\n",
       "      <th>...</th>\n",
       "      <th>Age_51-55</th>\n",
       "      <th>Age_55+</th>\n",
       "      <th>City_Category_A</th>\n",
       "      <th>City_Category_B</th>\n",
       "      <th>City_Category_C</th>\n",
       "      <th>Stay_In_Current_City_Years_0</th>\n",
       "      <th>Stay_In_Current_City_Years_1</th>\n",
       "      <th>Stay_In_Current_City_Years_2</th>\n",
       "      <th>Stay_In_Current_City_Years_3</th>\n",
       "      <th>Stay_In_Current_City_Years_4+</th>\n",
       "    </tr>\n",
       "  </thead>\n",
       "  <tbody>\n",
       "    <tr>\n",
       "      <th>count</th>\n",
       "      <td>4.282080e+05</td>\n",
       "      <td>4.282080e+05</td>\n",
       "      <td>4.282080e+05</td>\n",
       "      <td>4.282080e+05</td>\n",
       "      <td>4.282080e+05</td>\n",
       "      <td>4.282080e+05</td>\n",
       "      <td>4.282080e+05</td>\n",
       "      <td>4.282080e+05</td>\n",
       "      <td>4.282080e+05</td>\n",
       "      <td>4.282080e+05</td>\n",
       "      <td>...</td>\n",
       "      <td>4.282080e+05</td>\n",
       "      <td>4.282080e+05</td>\n",
       "      <td>4.282080e+05</td>\n",
       "      <td>4.282080e+05</td>\n",
       "      <td>4.282080e+05</td>\n",
       "      <td>4.282080e+05</td>\n",
       "      <td>4.282080e+05</td>\n",
       "      <td>4.282080e+05</td>\n",
       "      <td>4.282080e+05</td>\n",
       "      <td>4.282080e+05</td>\n",
       "    </tr>\n",
       "    <tr>\n",
       "      <th>mean</th>\n",
       "      <td>-7.967413e-16</td>\n",
       "      <td>1.342276e-15</td>\n",
       "      <td>2.215706e-15</td>\n",
       "      <td>-4.581080e-16</td>\n",
       "      <td>-2.844475e-15</td>\n",
       "      <td>2.835843e-15</td>\n",
       "      <td>8.903367e-16</td>\n",
       "      <td>-1.680742e-15</td>\n",
       "      <td>-5.151971e-16</td>\n",
       "      <td>-4.681691e-15</td>\n",
       "      <td>...</td>\n",
       "      <td>-4.006444e-15</td>\n",
       "      <td>-3.924250e-16</td>\n",
       "      <td>-3.031625e-15</td>\n",
       "      <td>1.496928e-15</td>\n",
       "      <td>2.961750e-15</td>\n",
       "      <td>-1.301871e-14</td>\n",
       "      <td>-7.956426e-15</td>\n",
       "      <td>1.745917e-15</td>\n",
       "      <td>-2.089756e-15</td>\n",
       "      <td>-1.725055e-15</td>\n",
       "    </tr>\n",
       "    <tr>\n",
       "      <th>std</th>\n",
       "      <td>1.000000e+00</td>\n",
       "      <td>1.000000e+00</td>\n",
       "      <td>1.000000e+00</td>\n",
       "      <td>1.000000e+00</td>\n",
       "      <td>1.000000e+00</td>\n",
       "      <td>1.000000e+00</td>\n",
       "      <td>1.000000e+00</td>\n",
       "      <td>1.000000e+00</td>\n",
       "      <td>1.000000e+00</td>\n",
       "      <td>1.000000e+00</td>\n",
       "      <td>...</td>\n",
       "      <td>1.000000e+00</td>\n",
       "      <td>1.000000e+00</td>\n",
       "      <td>1.000000e+00</td>\n",
       "      <td>1.000000e+00</td>\n",
       "      <td>1.000000e+00</td>\n",
       "      <td>1.000000e+00</td>\n",
       "      <td>1.000000e+00</td>\n",
       "      <td>1.000000e+00</td>\n",
       "      <td>1.000000e+00</td>\n",
       "      <td>1.000000e+00</td>\n",
       "    </tr>\n",
       "    <tr>\n",
       "      <th>min</th>\n",
       "      <td>-1.238686e+00</td>\n",
       "      <td>-1.140341e+00</td>\n",
       "      <td>-1.089253e+00</td>\n",
       "      <td>-6.178614e-01</td>\n",
       "      <td>-5.714493e-01</td>\n",
       "      <td>-1.749932e+00</td>\n",
       "      <td>-1.682275e-01</td>\n",
       "      <td>-4.710154e-01</td>\n",
       "      <td>-8.163002e-01</td>\n",
       "      <td>-4.990301e-01</td>\n",
       "      <td>...</td>\n",
       "      <td>-2.742403e-01</td>\n",
       "      <td>-2.008725e-01</td>\n",
       "      <td>-6.067321e-01</td>\n",
       "      <td>-8.531528e-01</td>\n",
       "      <td>-6.697690e-01</td>\n",
       "      <td>-3.953516e-01</td>\n",
       "      <td>-7.373090e-01</td>\n",
       "      <td>-4.768681e-01</td>\n",
       "      <td>-4.584469e-01</td>\n",
       "      <td>-4.261708e-01</td>\n",
       "    </tr>\n",
       "    <tr>\n",
       "      <th>25%</th>\n",
       "      <td>-9.320863e-01</td>\n",
       "      <td>-1.140341e+00</td>\n",
       "      <td>-1.089253e+00</td>\n",
       "      <td>-6.178614e-01</td>\n",
       "      <td>-5.714493e-01</td>\n",
       "      <td>5.714493e-01</td>\n",
       "      <td>-1.682275e-01</td>\n",
       "      <td>-4.710154e-01</td>\n",
       "      <td>-8.163002e-01</td>\n",
       "      <td>-4.990301e-01</td>\n",
       "      <td>...</td>\n",
       "      <td>-2.742403e-01</td>\n",
       "      <td>-2.008725e-01</td>\n",
       "      <td>-6.067321e-01</td>\n",
       "      <td>-8.531528e-01</td>\n",
       "      <td>-6.697690e-01</td>\n",
       "      <td>-3.953516e-01</td>\n",
       "      <td>-7.373090e-01</td>\n",
       "      <td>-4.768681e-01</td>\n",
       "      <td>-4.584469e-01</td>\n",
       "      <td>-4.261708e-01</td>\n",
       "    </tr>\n",
       "    <tr>\n",
       "      <th>50%</th>\n",
       "      <td>-1.655875e-01</td>\n",
       "      <td>-7.296100e-02</td>\n",
       "      <td>-2.835652e-01</td>\n",
       "      <td>-6.178614e-01</td>\n",
       "      <td>-5.714493e-01</td>\n",
       "      <td>5.714493e-01</td>\n",
       "      <td>-1.682275e-01</td>\n",
       "      <td>-4.710154e-01</td>\n",
       "      <td>-8.163002e-01</td>\n",
       "      <td>-4.990301e-01</td>\n",
       "      <td>...</td>\n",
       "      <td>-2.742403e-01</td>\n",
       "      <td>-2.008725e-01</td>\n",
       "      <td>-6.067321e-01</td>\n",
       "      <td>-8.531528e-01</td>\n",
       "      <td>-6.697690e-01</td>\n",
       "      <td>-3.953516e-01</td>\n",
       "      <td>-7.373090e-01</td>\n",
       "      <td>-4.768681e-01</td>\n",
       "      <td>-4.584469e-01</td>\n",
       "      <td>-4.261708e-01</td>\n",
       "    </tr>\n",
       "    <tr>\n",
       "      <th>75%</th>\n",
       "      <td>9.075109e-01</td>\n",
       "      <td>7.275742e-01</td>\n",
       "      <td>1.166673e+00</td>\n",
       "      <td>6.597608e-01</td>\n",
       "      <td>-5.714493e-01</td>\n",
       "      <td>5.714493e-01</td>\n",
       "      <td>-1.682275e-01</td>\n",
       "      <td>-4.710154e-01</td>\n",
       "      <td>1.225037e+00</td>\n",
       "      <td>-4.990301e-01</td>\n",
       "      <td>...</td>\n",
       "      <td>-2.742403e-01</td>\n",
       "      <td>-2.008725e-01</td>\n",
       "      <td>1.648170e+00</td>\n",
       "      <td>1.172120e+00</td>\n",
       "      <td>1.493049e+00</td>\n",
       "      <td>-3.953516e-01</td>\n",
       "      <td>1.356280e+00</td>\n",
       "      <td>-4.768681e-01</td>\n",
       "      <td>-4.584469e-01</td>\n",
       "      <td>-4.261708e-01</td>\n",
       "    </tr>\n",
       "    <tr>\n",
       "      <th>max</th>\n",
       "      <td>1.827309e+00</td>\n",
       "      <td>3.396025e+00</td>\n",
       "      <td>1.811223e+00</td>\n",
       "      <td>2.256789e+00</td>\n",
       "      <td>1.749932e+00</td>\n",
       "      <td>5.714493e-01</td>\n",
       "      <td>5.944318e+00</td>\n",
       "      <td>2.123068e+00</td>\n",
       "      <td>1.225037e+00</td>\n",
       "      <td>2.003883e+00</td>\n",
       "      <td>...</td>\n",
       "      <td>3.646429e+00</td>\n",
       "      <td>4.978271e+00</td>\n",
       "      <td>1.648170e+00</td>\n",
       "      <td>1.172120e+00</td>\n",
       "      <td>1.493049e+00</td>\n",
       "      <td>2.529388e+00</td>\n",
       "      <td>1.356280e+00</td>\n",
       "      <td>2.097011e+00</td>\n",
       "      <td>2.181272e+00</td>\n",
       "      <td>2.346471e+00</td>\n",
       "    </tr>\n",
       "  </tbody>\n",
       "</table>\n",
       "<p>8 rows × 21 columns</p>\n",
       "</div>"
      ],
      "text/plain": [
       "         Occupation  Product_Category_1  Product_Category_2  \\\n",
       "count  4.282080e+05        4.282080e+05        4.282080e+05   \n",
       "mean  -7.967413e-16        1.342276e-15        2.215706e-15   \n",
       "std    1.000000e+00        1.000000e+00        1.000000e+00   \n",
       "min   -1.238686e+00       -1.140341e+00       -1.089253e+00   \n",
       "25%   -9.320863e-01       -1.140341e+00       -1.089253e+00   \n",
       "50%   -1.655875e-01       -7.296100e-02       -2.835652e-01   \n",
       "75%    9.075109e-01        7.275742e-01        1.166673e+00   \n",
       "max    1.827309e+00        3.396025e+00        1.811223e+00   \n",
       "\n",
       "       Product_Category_3      Gender_F      Gender_M      Age_0-17  \\\n",
       "count        4.282080e+05  4.282080e+05  4.282080e+05  4.282080e+05   \n",
       "mean        -4.581080e-16 -2.844475e-15  2.835843e-15  8.903367e-16   \n",
       "std          1.000000e+00  1.000000e+00  1.000000e+00  1.000000e+00   \n",
       "min         -6.178614e-01 -5.714493e-01 -1.749932e+00 -1.682275e-01   \n",
       "25%         -6.178614e-01 -5.714493e-01  5.714493e-01 -1.682275e-01   \n",
       "50%         -6.178614e-01 -5.714493e-01  5.714493e-01 -1.682275e-01   \n",
       "75%          6.597608e-01 -5.714493e-01  5.714493e-01 -1.682275e-01   \n",
       "max          2.256789e+00  1.749932e+00  5.714493e-01  5.944318e+00   \n",
       "\n",
       "          Age_18-25     Age_26-35     Age_36-45  ...     Age_51-55  \\\n",
       "count  4.282080e+05  4.282080e+05  4.282080e+05  ...  4.282080e+05   \n",
       "mean  -1.680742e-15 -5.151971e-16 -4.681691e-15  ... -4.006444e-15   \n",
       "std    1.000000e+00  1.000000e+00  1.000000e+00  ...  1.000000e+00   \n",
       "min   -4.710154e-01 -8.163002e-01 -4.990301e-01  ... -2.742403e-01   \n",
       "25%   -4.710154e-01 -8.163002e-01 -4.990301e-01  ... -2.742403e-01   \n",
       "50%   -4.710154e-01 -8.163002e-01 -4.990301e-01  ... -2.742403e-01   \n",
       "75%   -4.710154e-01  1.225037e+00 -4.990301e-01  ... -2.742403e-01   \n",
       "max    2.123068e+00  1.225037e+00  2.003883e+00  ...  3.646429e+00   \n",
       "\n",
       "            Age_55+  City_Category_A  City_Category_B  City_Category_C  \\\n",
       "count  4.282080e+05     4.282080e+05     4.282080e+05     4.282080e+05   \n",
       "mean  -3.924250e-16    -3.031625e-15     1.496928e-15     2.961750e-15   \n",
       "std    1.000000e+00     1.000000e+00     1.000000e+00     1.000000e+00   \n",
       "min   -2.008725e-01    -6.067321e-01    -8.531528e-01    -6.697690e-01   \n",
       "25%   -2.008725e-01    -6.067321e-01    -8.531528e-01    -6.697690e-01   \n",
       "50%   -2.008725e-01    -6.067321e-01    -8.531528e-01    -6.697690e-01   \n",
       "75%   -2.008725e-01     1.648170e+00     1.172120e+00     1.493049e+00   \n",
       "max    4.978271e+00     1.648170e+00     1.172120e+00     1.493049e+00   \n",
       "\n",
       "       Stay_In_Current_City_Years_0  Stay_In_Current_City_Years_1  \\\n",
       "count                  4.282080e+05                  4.282080e+05   \n",
       "mean                  -1.301871e-14                 -7.956426e-15   \n",
       "std                    1.000000e+00                  1.000000e+00   \n",
       "min                   -3.953516e-01                 -7.373090e-01   \n",
       "25%                   -3.953516e-01                 -7.373090e-01   \n",
       "50%                   -3.953516e-01                 -7.373090e-01   \n",
       "75%                   -3.953516e-01                  1.356280e+00   \n",
       "max                    2.529388e+00                  1.356280e+00   \n",
       "\n",
       "       Stay_In_Current_City_Years_2  Stay_In_Current_City_Years_3  \\\n",
       "count                  4.282080e+05                  4.282080e+05   \n",
       "mean                   1.745917e-15                 -2.089756e-15   \n",
       "std                    1.000000e+00                  1.000000e+00   \n",
       "min                   -4.768681e-01                 -4.584469e-01   \n",
       "25%                   -4.768681e-01                 -4.584469e-01   \n",
       "50%                   -4.768681e-01                 -4.584469e-01   \n",
       "75%                   -4.768681e-01                 -4.584469e-01   \n",
       "max                    2.097011e+00                  2.181272e+00   \n",
       "\n",
       "       Stay_In_Current_City_Years_4+  \n",
       "count                   4.282080e+05  \n",
       "mean                   -1.725055e-15  \n",
       "std                     1.000000e+00  \n",
       "min                    -4.261708e-01  \n",
       "25%                    -4.261708e-01  \n",
       "50%                    -4.261708e-01  \n",
       "75%                    -4.261708e-01  \n",
       "max                     2.346471e+00  \n",
       "\n",
       "[8 rows x 21 columns]"
      ]
     },
     "execution_count": 59,
     "metadata": {},
     "output_type": "execute_result"
    }
   ],
   "source": [
    "X_train.describe()"
   ]
  },
  {
   "cell_type": "code",
   "execution_count": 60,
   "metadata": {},
   "outputs": [],
   "source": [
    "X_test = (X_test - train_mean) / train_std"
   ]
  },
  {
   "cell_type": "code",
   "execution_count": 61,
   "metadata": {},
   "outputs": [
    {
     "data": {
      "text/html": [
       "<div>\n",
       "<style scoped>\n",
       "    .dataframe tbody tr th:only-of-type {\n",
       "        vertical-align: middle;\n",
       "    }\n",
       "\n",
       "    .dataframe tbody tr th {\n",
       "        vertical-align: top;\n",
       "    }\n",
       "\n",
       "    .dataframe thead th {\n",
       "        text-align: right;\n",
       "    }\n",
       "</style>\n",
       "<table border=\"1\" class=\"dataframe\">\n",
       "  <thead>\n",
       "    <tr style=\"text-align: right;\">\n",
       "      <th></th>\n",
       "      <th>Occupation</th>\n",
       "      <th>Product_Category_1</th>\n",
       "      <th>Product_Category_2</th>\n",
       "      <th>Product_Category_3</th>\n",
       "      <th>Gender_F</th>\n",
       "      <th>Gender_M</th>\n",
       "      <th>Age_0-17</th>\n",
       "      <th>Age_18-25</th>\n",
       "      <th>Age_26-35</th>\n",
       "      <th>Age_36-45</th>\n",
       "      <th>...</th>\n",
       "      <th>Age_51-55</th>\n",
       "      <th>Age_55+</th>\n",
       "      <th>City_Category_A</th>\n",
       "      <th>City_Category_B</th>\n",
       "      <th>City_Category_C</th>\n",
       "      <th>Stay_In_Current_City_Years_0</th>\n",
       "      <th>Stay_In_Current_City_Years_1</th>\n",
       "      <th>Stay_In_Current_City_Years_2</th>\n",
       "      <th>Stay_In_Current_City_Years_3</th>\n",
       "      <th>Stay_In_Current_City_Years_4+</th>\n",
       "    </tr>\n",
       "  </thead>\n",
       "  <tbody>\n",
       "    <tr>\n",
       "      <th>count</th>\n",
       "      <td>107053.000000</td>\n",
       "      <td>107053.000000</td>\n",
       "      <td>107053.000000</td>\n",
       "      <td>107053.000000</td>\n",
       "      <td>107053.000000</td>\n",
       "      <td>107053.000000</td>\n",
       "      <td>107053.000000</td>\n",
       "      <td>107053.000000</td>\n",
       "      <td>107053.000000</td>\n",
       "      <td>107053.000000</td>\n",
       "      <td>...</td>\n",
       "      <td>107053.000000</td>\n",
       "      <td>107053.000000</td>\n",
       "      <td>107053.000000</td>\n",
       "      <td>107053.000000</td>\n",
       "      <td>107053.000000</td>\n",
       "      <td>107053.000000</td>\n",
       "      <td>107053.000000</td>\n",
       "      <td>107053.000000</td>\n",
       "      <td>107053.000000</td>\n",
       "      <td>107053.000000</td>\n",
       "    </tr>\n",
       "    <tr>\n",
       "      <th>mean</th>\n",
       "      <td>0.000938</td>\n",
       "      <td>0.002544</td>\n",
       "      <td>-0.001073</td>\n",
       "      <td>0.000888</td>\n",
       "      <td>-0.002060</td>\n",
       "      <td>0.002060</td>\n",
       "      <td>-0.004470</td>\n",
       "      <td>0.004557</td>\n",
       "      <td>-0.003011</td>\n",
       "      <td>0.005630</td>\n",
       "      <td>...</td>\n",
       "      <td>-0.003518</td>\n",
       "      <td>-0.001163</td>\n",
       "      <td>0.000653</td>\n",
       "      <td>0.001903</td>\n",
       "      <td>-0.002658</td>\n",
       "      <td>0.001451</td>\n",
       "      <td>-0.003195</td>\n",
       "      <td>-0.002114</td>\n",
       "      <td>-0.001804</td>\n",
       "      <td>0.007028</td>\n",
       "    </tr>\n",
       "    <tr>\n",
       "      <th>std</th>\n",
       "      <td>1.000171</td>\n",
       "      <td>0.998202</td>\n",
       "      <td>0.999268</td>\n",
       "      <td>1.000372</td>\n",
       "      <td>0.998787</td>\n",
       "      <td>0.998787</td>\n",
       "      <td>0.987001</td>\n",
       "      <td>1.003751</td>\n",
       "      <td>0.999383</td>\n",
       "      <td>1.004215</td>\n",
       "      <td>...</td>\n",
       "      <td>0.994047</td>\n",
       "      <td>0.997221</td>\n",
       "      <td>1.000343</td>\n",
       "      <td>1.000305</td>\n",
       "      <td>0.998905</td>\n",
       "      <td>1.001550</td>\n",
       "      <td>0.999009</td>\n",
       "      <td>0.998287</td>\n",
       "      <td>0.998446</td>\n",
       "      <td>1.006704</td>\n",
       "    </tr>\n",
       "    <tr>\n",
       "      <th>min</th>\n",
       "      <td>-1.238686</td>\n",
       "      <td>-1.140341</td>\n",
       "      <td>-1.089253</td>\n",
       "      <td>-0.617861</td>\n",
       "      <td>-0.571449</td>\n",
       "      <td>-1.749932</td>\n",
       "      <td>-0.168227</td>\n",
       "      <td>-0.471015</td>\n",
       "      <td>-0.816300</td>\n",
       "      <td>-0.499030</td>\n",
       "      <td>...</td>\n",
       "      <td>-0.274240</td>\n",
       "      <td>-0.200872</td>\n",
       "      <td>-0.606732</td>\n",
       "      <td>-0.853153</td>\n",
       "      <td>-0.669769</td>\n",
       "      <td>-0.395352</td>\n",
       "      <td>-0.737309</td>\n",
       "      <td>-0.476868</td>\n",
       "      <td>-0.458447</td>\n",
       "      <td>-0.426171</td>\n",
       "    </tr>\n",
       "    <tr>\n",
       "      <th>25%</th>\n",
       "      <td>-0.932086</td>\n",
       "      <td>-1.140341</td>\n",
       "      <td>-1.089253</td>\n",
       "      <td>-0.617861</td>\n",
       "      <td>-0.571449</td>\n",
       "      <td>0.571449</td>\n",
       "      <td>-0.168227</td>\n",
       "      <td>-0.471015</td>\n",
       "      <td>-0.816300</td>\n",
       "      <td>-0.499030</td>\n",
       "      <td>...</td>\n",
       "      <td>-0.274240</td>\n",
       "      <td>-0.200872</td>\n",
       "      <td>-0.606732</td>\n",
       "      <td>-0.853153</td>\n",
       "      <td>-0.669769</td>\n",
       "      <td>-0.395352</td>\n",
       "      <td>-0.737309</td>\n",
       "      <td>-0.476868</td>\n",
       "      <td>-0.458447</td>\n",
       "      <td>-0.426171</td>\n",
       "    </tr>\n",
       "    <tr>\n",
       "      <th>50%</th>\n",
       "      <td>-0.165588</td>\n",
       "      <td>-0.072961</td>\n",
       "      <td>-0.283565</td>\n",
       "      <td>-0.617861</td>\n",
       "      <td>-0.571449</td>\n",
       "      <td>0.571449</td>\n",
       "      <td>-0.168227</td>\n",
       "      <td>-0.471015</td>\n",
       "      <td>-0.816300</td>\n",
       "      <td>-0.499030</td>\n",
       "      <td>...</td>\n",
       "      <td>-0.274240</td>\n",
       "      <td>-0.200872</td>\n",
       "      <td>-0.606732</td>\n",
       "      <td>-0.853153</td>\n",
       "      <td>-0.669769</td>\n",
       "      <td>-0.395352</td>\n",
       "      <td>-0.737309</td>\n",
       "      <td>-0.476868</td>\n",
       "      <td>-0.458447</td>\n",
       "      <td>-0.426171</td>\n",
       "    </tr>\n",
       "    <tr>\n",
       "      <th>75%</th>\n",
       "      <td>0.907511</td>\n",
       "      <td>0.727574</td>\n",
       "      <td>1.166673</td>\n",
       "      <td>0.659761</td>\n",
       "      <td>-0.571449</td>\n",
       "      <td>0.571449</td>\n",
       "      <td>-0.168227</td>\n",
       "      <td>-0.471015</td>\n",
       "      <td>1.225037</td>\n",
       "      <td>-0.499030</td>\n",
       "      <td>...</td>\n",
       "      <td>-0.274240</td>\n",
       "      <td>-0.200872</td>\n",
       "      <td>1.648170</td>\n",
       "      <td>1.172120</td>\n",
       "      <td>1.493049</td>\n",
       "      <td>-0.395352</td>\n",
       "      <td>1.356280</td>\n",
       "      <td>-0.476868</td>\n",
       "      <td>-0.458447</td>\n",
       "      <td>-0.426171</td>\n",
       "    </tr>\n",
       "    <tr>\n",
       "      <th>max</th>\n",
       "      <td>1.827309</td>\n",
       "      <td>3.396025</td>\n",
       "      <td>1.811223</td>\n",
       "      <td>2.256789</td>\n",
       "      <td>1.749932</td>\n",
       "      <td>0.571449</td>\n",
       "      <td>5.944318</td>\n",
       "      <td>2.123068</td>\n",
       "      <td>1.225037</td>\n",
       "      <td>2.003883</td>\n",
       "      <td>...</td>\n",
       "      <td>3.646429</td>\n",
       "      <td>4.978271</td>\n",
       "      <td>1.648170</td>\n",
       "      <td>1.172120</td>\n",
       "      <td>1.493049</td>\n",
       "      <td>2.529388</td>\n",
       "      <td>1.356280</td>\n",
       "      <td>2.097011</td>\n",
       "      <td>2.181272</td>\n",
       "      <td>2.346471</td>\n",
       "    </tr>\n",
       "  </tbody>\n",
       "</table>\n",
       "<p>8 rows × 21 columns</p>\n",
       "</div>"
      ],
      "text/plain": [
       "          Occupation  Product_Category_1  Product_Category_2  \\\n",
       "count  107053.000000       107053.000000       107053.000000   \n",
       "mean        0.000938            0.002544           -0.001073   \n",
       "std         1.000171            0.998202            0.999268   \n",
       "min        -1.238686           -1.140341           -1.089253   \n",
       "25%        -0.932086           -1.140341           -1.089253   \n",
       "50%        -0.165588           -0.072961           -0.283565   \n",
       "75%         0.907511            0.727574            1.166673   \n",
       "max         1.827309            3.396025            1.811223   \n",
       "\n",
       "       Product_Category_3       Gender_F       Gender_M       Age_0-17  \\\n",
       "count       107053.000000  107053.000000  107053.000000  107053.000000   \n",
       "mean             0.000888      -0.002060       0.002060      -0.004470   \n",
       "std              1.000372       0.998787       0.998787       0.987001   \n",
       "min             -0.617861      -0.571449      -1.749932      -0.168227   \n",
       "25%             -0.617861      -0.571449       0.571449      -0.168227   \n",
       "50%             -0.617861      -0.571449       0.571449      -0.168227   \n",
       "75%              0.659761      -0.571449       0.571449      -0.168227   \n",
       "max              2.256789       1.749932       0.571449       5.944318   \n",
       "\n",
       "           Age_18-25      Age_26-35      Age_36-45  ...      Age_51-55  \\\n",
       "count  107053.000000  107053.000000  107053.000000  ...  107053.000000   \n",
       "mean        0.004557      -0.003011       0.005630  ...      -0.003518   \n",
       "std         1.003751       0.999383       1.004215  ...       0.994047   \n",
       "min        -0.471015      -0.816300      -0.499030  ...      -0.274240   \n",
       "25%        -0.471015      -0.816300      -0.499030  ...      -0.274240   \n",
       "50%        -0.471015      -0.816300      -0.499030  ...      -0.274240   \n",
       "75%        -0.471015       1.225037      -0.499030  ...      -0.274240   \n",
       "max         2.123068       1.225037       2.003883  ...       3.646429   \n",
       "\n",
       "             Age_55+  City_Category_A  City_Category_B  City_Category_C  \\\n",
       "count  107053.000000    107053.000000    107053.000000    107053.000000   \n",
       "mean       -0.001163         0.000653         0.001903        -0.002658   \n",
       "std         0.997221         1.000343         1.000305         0.998905   \n",
       "min        -0.200872        -0.606732        -0.853153        -0.669769   \n",
       "25%        -0.200872        -0.606732        -0.853153        -0.669769   \n",
       "50%        -0.200872        -0.606732        -0.853153        -0.669769   \n",
       "75%        -0.200872         1.648170         1.172120         1.493049   \n",
       "max         4.978271         1.648170         1.172120         1.493049   \n",
       "\n",
       "       Stay_In_Current_City_Years_0  Stay_In_Current_City_Years_1  \\\n",
       "count                 107053.000000                 107053.000000   \n",
       "mean                       0.001451                     -0.003195   \n",
       "std                        1.001550                      0.999009   \n",
       "min                       -0.395352                     -0.737309   \n",
       "25%                       -0.395352                     -0.737309   \n",
       "50%                       -0.395352                     -0.737309   \n",
       "75%                       -0.395352                      1.356280   \n",
       "max                        2.529388                      1.356280   \n",
       "\n",
       "       Stay_In_Current_City_Years_2  Stay_In_Current_City_Years_3  \\\n",
       "count                 107053.000000                 107053.000000   \n",
       "mean                      -0.002114                     -0.001804   \n",
       "std                        0.998287                      0.998446   \n",
       "min                       -0.476868                     -0.458447   \n",
       "25%                       -0.476868                     -0.458447   \n",
       "50%                       -0.476868                     -0.458447   \n",
       "75%                       -0.476868                     -0.458447   \n",
       "max                        2.097011                      2.181272   \n",
       "\n",
       "       Stay_In_Current_City_Years_4+  \n",
       "count                  107053.000000  \n",
       "mean                        0.007028  \n",
       "std                         1.006704  \n",
       "min                        -0.426171  \n",
       "25%                        -0.426171  \n",
       "50%                        -0.426171  \n",
       "75%                        -0.426171  \n",
       "max                         2.346471  \n",
       "\n",
       "[8 rows x 21 columns]"
      ]
     },
     "execution_count": 61,
     "metadata": {},
     "output_type": "execute_result"
    }
   ],
   "source": [
    "# Check for mean and standard deveviation. - not exactly 0 and 1\n",
    "X_test.describe()"
   ]
  },
  {
   "cell_type": "markdown",
   "metadata": {},
   "source": [
    "# Model 1 Baseline Model"
   ]
  },
  {
   "cell_type": "code",
   "execution_count": 62,
   "metadata": {},
   "outputs": [],
   "source": [
    "# In this model we will predict the avg. of the train labels as the output for each test data point\n",
    "# This model will be used to perform hypothesis testing to the other more complex models"
   ]
  },
  {
   "cell_type": "code",
   "execution_count": 63,
   "metadata": {},
   "outputs": [],
   "source": [
    "# Predict Train results\n",
    "y_train_pred = np.ones(y_train.shape[0])*y_train.mean()"
   ]
  },
  {
   "cell_type": "code",
   "execution_count": 64,
   "metadata": {},
   "outputs": [],
   "source": [
    "# Predict Test results\n",
    "y_pred = np.ones(y_test.shape[0])*y_train.mean()\n",
    "from sklearn.metrics import r2_score"
   ]
  },
  {
   "cell_type": "code",
   "execution_count": 65,
   "metadata": {},
   "outputs": [
    {
     "name": "stdout",
     "output_type": "stream",
     "text": [
      "Train Results for Baseline Model:\n",
      "*******************************\n",
      "Root mean squared error:  4905.252588576977\n",
      "R-squared:  0.0\n",
      "Mean Absolute Error:  3994.073514580103\n"
     ]
    }
   ],
   "source": [
    "print(\"Train Results for Baseline Model:\")\n",
    "print(\"*******************************\")\n",
    "print(\"Root mean squared error: \", sqrt(mse(y_train.values, y_train_pred)))\n",
    "print(\"R-squared: \", r2_score(y_train.values, y_train_pred))\n",
    "print(\"Mean Absolute Error: \", mae(y_train.values, y_train_pred))"
   ]
  },
  {
   "cell_type": "code",
   "execution_count": 66,
   "metadata": {},
   "outputs": [
    {
     "name": "stdout",
     "output_type": "stream",
     "text": [
      "Results for Baseline Model:\n",
      "*******************************\n",
      "Root mean squared error:  4898.339094501526\n",
      "R-squared:  -3.889673724799536e-05\n",
      "Mean Absolute Error:  3987.018433872469\n"
     ]
    }
   ],
   "source": [
    "print(\"Results for Baseline Model:\")\n",
    "print(\"*******************************\")\n",
    "print(\"Root mean squared error: \", sqrt(mse(y_test, y_pred)))\n",
    "print(\"R-squared: \", r2_score(y_test, y_pred))\n",
    "print(\"Mean Absolute Error: \", mae(y_test, y_pred))"
   ]
  },
  {
   "cell_type": "code",
   "execution_count": 67,
   "metadata": {},
   "outputs": [],
   "source": [
    "# Moving on to the next model"
   ]
  },
  {
   "cell_type": "markdown",
   "metadata": {},
   "source": [
    "# Model 2 Ridge Regression"
   ]
  },
  {
   "cell_type": "code",
   "execution_count": 68,
   "metadata": {
    "scrolled": true
   },
   "outputs": [
    {
     "data": {
      "text/html": [
       "<div>\n",
       "<style scoped>\n",
       "    .dataframe tbody tr th:only-of-type {\n",
       "        vertical-align: middle;\n",
       "    }\n",
       "\n",
       "    .dataframe tbody tr th {\n",
       "        vertical-align: top;\n",
       "    }\n",
       "\n",
       "    .dataframe thead th {\n",
       "        text-align: right;\n",
       "    }\n",
       "</style>\n",
       "<table border=\"1\" class=\"dataframe\">\n",
       "  <thead>\n",
       "    <tr style=\"text-align: right;\">\n",
       "      <th></th>\n",
       "      <th>Occupation</th>\n",
       "      <th>Product_Category_1</th>\n",
       "      <th>Product_Category_2</th>\n",
       "      <th>Product_Category_3</th>\n",
       "      <th>Gender_F</th>\n",
       "      <th>Gender_M</th>\n",
       "      <th>Age_0-17</th>\n",
       "      <th>Age_18-25</th>\n",
       "      <th>Age_26-35</th>\n",
       "      <th>Age_36-45</th>\n",
       "      <th>...</th>\n",
       "      <th>Age_51-55</th>\n",
       "      <th>Age_55+</th>\n",
       "      <th>City_Category_A</th>\n",
       "      <th>City_Category_B</th>\n",
       "      <th>City_Category_C</th>\n",
       "      <th>Stay_In_Current_City_Years_0</th>\n",
       "      <th>Stay_In_Current_City_Years_1</th>\n",
       "      <th>Stay_In_Current_City_Years_2</th>\n",
       "      <th>Stay_In_Current_City_Years_3</th>\n",
       "      <th>Stay_In_Current_City_Years_4+</th>\n",
       "    </tr>\n",
       "  </thead>\n",
       "  <tbody>\n",
       "    <tr>\n",
       "      <th>count</th>\n",
       "      <td>4.282080e+05</td>\n",
       "      <td>4.282080e+05</td>\n",
       "      <td>4.282080e+05</td>\n",
       "      <td>4.282080e+05</td>\n",
       "      <td>4.282080e+05</td>\n",
       "      <td>4.282080e+05</td>\n",
       "      <td>4.282080e+05</td>\n",
       "      <td>4.282080e+05</td>\n",
       "      <td>4.282080e+05</td>\n",
       "      <td>4.282080e+05</td>\n",
       "      <td>...</td>\n",
       "      <td>4.282080e+05</td>\n",
       "      <td>4.282080e+05</td>\n",
       "      <td>4.282080e+05</td>\n",
       "      <td>4.282080e+05</td>\n",
       "      <td>4.282080e+05</td>\n",
       "      <td>4.282080e+05</td>\n",
       "      <td>4.282080e+05</td>\n",
       "      <td>4.282080e+05</td>\n",
       "      <td>4.282080e+05</td>\n",
       "      <td>4.282080e+05</td>\n",
       "    </tr>\n",
       "    <tr>\n",
       "      <th>mean</th>\n",
       "      <td>-7.967413e-16</td>\n",
       "      <td>1.342276e-15</td>\n",
       "      <td>2.215706e-15</td>\n",
       "      <td>-4.581080e-16</td>\n",
       "      <td>-2.844475e-15</td>\n",
       "      <td>2.835843e-15</td>\n",
       "      <td>8.903367e-16</td>\n",
       "      <td>-1.680742e-15</td>\n",
       "      <td>-5.151971e-16</td>\n",
       "      <td>-4.681691e-15</td>\n",
       "      <td>...</td>\n",
       "      <td>-4.006444e-15</td>\n",
       "      <td>-3.924250e-16</td>\n",
       "      <td>-3.031625e-15</td>\n",
       "      <td>1.496928e-15</td>\n",
       "      <td>2.961750e-15</td>\n",
       "      <td>-1.301871e-14</td>\n",
       "      <td>-7.956426e-15</td>\n",
       "      <td>1.745917e-15</td>\n",
       "      <td>-2.089756e-15</td>\n",
       "      <td>-1.725055e-15</td>\n",
       "    </tr>\n",
       "    <tr>\n",
       "      <th>std</th>\n",
       "      <td>1.000000e+00</td>\n",
       "      <td>1.000000e+00</td>\n",
       "      <td>1.000000e+00</td>\n",
       "      <td>1.000000e+00</td>\n",
       "      <td>1.000000e+00</td>\n",
       "      <td>1.000000e+00</td>\n",
       "      <td>1.000000e+00</td>\n",
       "      <td>1.000000e+00</td>\n",
       "      <td>1.000000e+00</td>\n",
       "      <td>1.000000e+00</td>\n",
       "      <td>...</td>\n",
       "      <td>1.000000e+00</td>\n",
       "      <td>1.000000e+00</td>\n",
       "      <td>1.000000e+00</td>\n",
       "      <td>1.000000e+00</td>\n",
       "      <td>1.000000e+00</td>\n",
       "      <td>1.000000e+00</td>\n",
       "      <td>1.000000e+00</td>\n",
       "      <td>1.000000e+00</td>\n",
       "      <td>1.000000e+00</td>\n",
       "      <td>1.000000e+00</td>\n",
       "    </tr>\n",
       "    <tr>\n",
       "      <th>min</th>\n",
       "      <td>-1.238686e+00</td>\n",
       "      <td>-1.140341e+00</td>\n",
       "      <td>-1.089253e+00</td>\n",
       "      <td>-6.178614e-01</td>\n",
       "      <td>-5.714493e-01</td>\n",
       "      <td>-1.749932e+00</td>\n",
       "      <td>-1.682275e-01</td>\n",
       "      <td>-4.710154e-01</td>\n",
       "      <td>-8.163002e-01</td>\n",
       "      <td>-4.990301e-01</td>\n",
       "      <td>...</td>\n",
       "      <td>-2.742403e-01</td>\n",
       "      <td>-2.008725e-01</td>\n",
       "      <td>-6.067321e-01</td>\n",
       "      <td>-8.531528e-01</td>\n",
       "      <td>-6.697690e-01</td>\n",
       "      <td>-3.953516e-01</td>\n",
       "      <td>-7.373090e-01</td>\n",
       "      <td>-4.768681e-01</td>\n",
       "      <td>-4.584469e-01</td>\n",
       "      <td>-4.261708e-01</td>\n",
       "    </tr>\n",
       "    <tr>\n",
       "      <th>25%</th>\n",
       "      <td>-9.320863e-01</td>\n",
       "      <td>-1.140341e+00</td>\n",
       "      <td>-1.089253e+00</td>\n",
       "      <td>-6.178614e-01</td>\n",
       "      <td>-5.714493e-01</td>\n",
       "      <td>5.714493e-01</td>\n",
       "      <td>-1.682275e-01</td>\n",
       "      <td>-4.710154e-01</td>\n",
       "      <td>-8.163002e-01</td>\n",
       "      <td>-4.990301e-01</td>\n",
       "      <td>...</td>\n",
       "      <td>-2.742403e-01</td>\n",
       "      <td>-2.008725e-01</td>\n",
       "      <td>-6.067321e-01</td>\n",
       "      <td>-8.531528e-01</td>\n",
       "      <td>-6.697690e-01</td>\n",
       "      <td>-3.953516e-01</td>\n",
       "      <td>-7.373090e-01</td>\n",
       "      <td>-4.768681e-01</td>\n",
       "      <td>-4.584469e-01</td>\n",
       "      <td>-4.261708e-01</td>\n",
       "    </tr>\n",
       "    <tr>\n",
       "      <th>50%</th>\n",
       "      <td>-1.655875e-01</td>\n",
       "      <td>-7.296100e-02</td>\n",
       "      <td>-2.835652e-01</td>\n",
       "      <td>-6.178614e-01</td>\n",
       "      <td>-5.714493e-01</td>\n",
       "      <td>5.714493e-01</td>\n",
       "      <td>-1.682275e-01</td>\n",
       "      <td>-4.710154e-01</td>\n",
       "      <td>-8.163002e-01</td>\n",
       "      <td>-4.990301e-01</td>\n",
       "      <td>...</td>\n",
       "      <td>-2.742403e-01</td>\n",
       "      <td>-2.008725e-01</td>\n",
       "      <td>-6.067321e-01</td>\n",
       "      <td>-8.531528e-01</td>\n",
       "      <td>-6.697690e-01</td>\n",
       "      <td>-3.953516e-01</td>\n",
       "      <td>-7.373090e-01</td>\n",
       "      <td>-4.768681e-01</td>\n",
       "      <td>-4.584469e-01</td>\n",
       "      <td>-4.261708e-01</td>\n",
       "    </tr>\n",
       "    <tr>\n",
       "      <th>75%</th>\n",
       "      <td>9.075109e-01</td>\n",
       "      <td>7.275742e-01</td>\n",
       "      <td>1.166673e+00</td>\n",
       "      <td>6.597608e-01</td>\n",
       "      <td>-5.714493e-01</td>\n",
       "      <td>5.714493e-01</td>\n",
       "      <td>-1.682275e-01</td>\n",
       "      <td>-4.710154e-01</td>\n",
       "      <td>1.225037e+00</td>\n",
       "      <td>-4.990301e-01</td>\n",
       "      <td>...</td>\n",
       "      <td>-2.742403e-01</td>\n",
       "      <td>-2.008725e-01</td>\n",
       "      <td>1.648170e+00</td>\n",
       "      <td>1.172120e+00</td>\n",
       "      <td>1.493049e+00</td>\n",
       "      <td>-3.953516e-01</td>\n",
       "      <td>1.356280e+00</td>\n",
       "      <td>-4.768681e-01</td>\n",
       "      <td>-4.584469e-01</td>\n",
       "      <td>-4.261708e-01</td>\n",
       "    </tr>\n",
       "    <tr>\n",
       "      <th>max</th>\n",
       "      <td>1.827309e+00</td>\n",
       "      <td>3.396025e+00</td>\n",
       "      <td>1.811223e+00</td>\n",
       "      <td>2.256789e+00</td>\n",
       "      <td>1.749932e+00</td>\n",
       "      <td>5.714493e-01</td>\n",
       "      <td>5.944318e+00</td>\n",
       "      <td>2.123068e+00</td>\n",
       "      <td>1.225037e+00</td>\n",
       "      <td>2.003883e+00</td>\n",
       "      <td>...</td>\n",
       "      <td>3.646429e+00</td>\n",
       "      <td>4.978271e+00</td>\n",
       "      <td>1.648170e+00</td>\n",
       "      <td>1.172120e+00</td>\n",
       "      <td>1.493049e+00</td>\n",
       "      <td>2.529388e+00</td>\n",
       "      <td>1.356280e+00</td>\n",
       "      <td>2.097011e+00</td>\n",
       "      <td>2.181272e+00</td>\n",
       "      <td>2.346471e+00</td>\n",
       "    </tr>\n",
       "  </tbody>\n",
       "</table>\n",
       "<p>8 rows × 21 columns</p>\n",
       "</div>"
      ],
      "text/plain": [
       "         Occupation  Product_Category_1  Product_Category_2  \\\n",
       "count  4.282080e+05        4.282080e+05        4.282080e+05   \n",
       "mean  -7.967413e-16        1.342276e-15        2.215706e-15   \n",
       "std    1.000000e+00        1.000000e+00        1.000000e+00   \n",
       "min   -1.238686e+00       -1.140341e+00       -1.089253e+00   \n",
       "25%   -9.320863e-01       -1.140341e+00       -1.089253e+00   \n",
       "50%   -1.655875e-01       -7.296100e-02       -2.835652e-01   \n",
       "75%    9.075109e-01        7.275742e-01        1.166673e+00   \n",
       "max    1.827309e+00        3.396025e+00        1.811223e+00   \n",
       "\n",
       "       Product_Category_3      Gender_F      Gender_M      Age_0-17  \\\n",
       "count        4.282080e+05  4.282080e+05  4.282080e+05  4.282080e+05   \n",
       "mean        -4.581080e-16 -2.844475e-15  2.835843e-15  8.903367e-16   \n",
       "std          1.000000e+00  1.000000e+00  1.000000e+00  1.000000e+00   \n",
       "min         -6.178614e-01 -5.714493e-01 -1.749932e+00 -1.682275e-01   \n",
       "25%         -6.178614e-01 -5.714493e-01  5.714493e-01 -1.682275e-01   \n",
       "50%         -6.178614e-01 -5.714493e-01  5.714493e-01 -1.682275e-01   \n",
       "75%          6.597608e-01 -5.714493e-01  5.714493e-01 -1.682275e-01   \n",
       "max          2.256789e+00  1.749932e+00  5.714493e-01  5.944318e+00   \n",
       "\n",
       "          Age_18-25     Age_26-35     Age_36-45  ...     Age_51-55  \\\n",
       "count  4.282080e+05  4.282080e+05  4.282080e+05  ...  4.282080e+05   \n",
       "mean  -1.680742e-15 -5.151971e-16 -4.681691e-15  ... -4.006444e-15   \n",
       "std    1.000000e+00  1.000000e+00  1.000000e+00  ...  1.000000e+00   \n",
       "min   -4.710154e-01 -8.163002e-01 -4.990301e-01  ... -2.742403e-01   \n",
       "25%   -4.710154e-01 -8.163002e-01 -4.990301e-01  ... -2.742403e-01   \n",
       "50%   -4.710154e-01 -8.163002e-01 -4.990301e-01  ... -2.742403e-01   \n",
       "75%   -4.710154e-01  1.225037e+00 -4.990301e-01  ... -2.742403e-01   \n",
       "max    2.123068e+00  1.225037e+00  2.003883e+00  ...  3.646429e+00   \n",
       "\n",
       "            Age_55+  City_Category_A  City_Category_B  City_Category_C  \\\n",
       "count  4.282080e+05     4.282080e+05     4.282080e+05     4.282080e+05   \n",
       "mean  -3.924250e-16    -3.031625e-15     1.496928e-15     2.961750e-15   \n",
       "std    1.000000e+00     1.000000e+00     1.000000e+00     1.000000e+00   \n",
       "min   -2.008725e-01    -6.067321e-01    -8.531528e-01    -6.697690e-01   \n",
       "25%   -2.008725e-01    -6.067321e-01    -8.531528e-01    -6.697690e-01   \n",
       "50%   -2.008725e-01    -6.067321e-01    -8.531528e-01    -6.697690e-01   \n",
       "75%   -2.008725e-01     1.648170e+00     1.172120e+00     1.493049e+00   \n",
       "max    4.978271e+00     1.648170e+00     1.172120e+00     1.493049e+00   \n",
       "\n",
       "       Stay_In_Current_City_Years_0  Stay_In_Current_City_Years_1  \\\n",
       "count                  4.282080e+05                  4.282080e+05   \n",
       "mean                  -1.301871e-14                 -7.956426e-15   \n",
       "std                    1.000000e+00                  1.000000e+00   \n",
       "min                   -3.953516e-01                 -7.373090e-01   \n",
       "25%                   -3.953516e-01                 -7.373090e-01   \n",
       "50%                   -3.953516e-01                 -7.373090e-01   \n",
       "75%                   -3.953516e-01                  1.356280e+00   \n",
       "max                    2.529388e+00                  1.356280e+00   \n",
       "\n",
       "       Stay_In_Current_City_Years_2  Stay_In_Current_City_Years_3  \\\n",
       "count                  4.282080e+05                  4.282080e+05   \n",
       "mean                   1.745917e-15                 -2.089756e-15   \n",
       "std                    1.000000e+00                  1.000000e+00   \n",
       "min                   -4.768681e-01                 -4.584469e-01   \n",
       "25%                   -4.768681e-01                 -4.584469e-01   \n",
       "50%                   -4.768681e-01                 -4.584469e-01   \n",
       "75%                   -4.768681e-01                 -4.584469e-01   \n",
       "max                    2.097011e+00                  2.181272e+00   \n",
       "\n",
       "       Stay_In_Current_City_Years_4+  \n",
       "count                   4.282080e+05  \n",
       "mean                   -1.725055e-15  \n",
       "std                     1.000000e+00  \n",
       "min                    -4.261708e-01  \n",
       "25%                    -4.261708e-01  \n",
       "50%                    -4.261708e-01  \n",
       "75%                    -4.261708e-01  \n",
       "max                     2.346471e+00  \n",
       "\n",
       "[8 rows x 21 columns]"
      ]
     },
     "execution_count": 68,
     "metadata": {},
     "output_type": "execute_result"
    }
   ],
   "source": [
    "X_train.describe()"
   ]
  },
  {
   "cell_type": "code",
   "execution_count": 69,
   "metadata": {},
   "outputs": [
    {
     "data": {
      "text/plain": [
       "GridSearchCV(cv=10, error_score='raise-deprecating',\n",
       "       estimator=Ridge(alpha=1.0, copy_X=True, fit_intercept=True, max_iter=None,\n",
       "   normalize=False, random_state=None, solver='auto', tol=0.001),\n",
       "       fit_params=None, iid='warn', n_jobs=-1,\n",
       "       param_grid={'alpha': [0.0001, 0.001, 0.01, 0.1, 1, 10, 100, 1000, 10000, 100000]},\n",
       "       pre_dispatch='2*n_jobs', refit=True, return_train_score='warn',\n",
       "       scoring='neg_mean_absolute_error', verbose=0)"
      ]
     },
     "execution_count": 69,
     "metadata": {},
     "output_type": "execute_result"
    }
   ],
   "source": [
    "tuned_params = {'alpha': [0.0001, 0.001, 0.01, 0.1, 1, 10, 100, 1000, 10000, 100000]}\n",
    "model = GridSearchCV(Ridge(), tuned_params, scoring = 'neg_mean_absolute_error', cv=10, n_jobs=-1)\n",
    "model.fit(X_train, y_train)"
   ]
  },
  {
   "cell_type": "code",
   "execution_count": 70,
   "metadata": {},
   "outputs": [
    {
     "data": {
      "text/plain": [
       "Ridge(alpha=0.0001, copy_X=True, fit_intercept=True, max_iter=None,\n",
       "   normalize=False, random_state=None, solver='auto', tol=0.001)"
      ]
     },
     "execution_count": 70,
     "metadata": {},
     "output_type": "execute_result"
    }
   ],
   "source": [
    "model.best_estimator_"
   ]
  },
  {
   "cell_type": "code",
   "execution_count": 71,
   "metadata": {},
   "outputs": [],
   "source": [
    "## Predict Train results\n",
    "y_train_pred = model.predict(X_train)"
   ]
  },
  {
   "cell_type": "code",
   "execution_count": 72,
   "metadata": {},
   "outputs": [],
   "source": [
    "## Predict Test results\n",
    "y_pred = model.predict(X_test)"
   ]
  },
  {
   "cell_type": "code",
   "execution_count": 73,
   "metadata": {},
   "outputs": [
    {
     "name": "stdout",
     "output_type": "stream",
     "text": [
      "Train Results for Ridge Regression:\n",
      "*******************************\n",
      "Root mean squared error:  4525.174991068817\n",
      "R-squared:  0.1489638558423183\n",
      "Mean Absolute Error:  3474.4617265204092\n"
     ]
    }
   ],
   "source": [
    "print(\"Train Results for Ridge Regression:\")\n",
    "print(\"*******************************\")\n",
    "print(\"Root mean squared error: \", sqrt(mse(y_train.values, y_train_pred)))\n",
    "print(\"R-squared: \", r2_score(y_train.values, y_train_pred))\n",
    "print(\"Mean Absolute Error: \", mae(y_train.values, y_train_pred))"
   ]
  },
  {
   "cell_type": "code",
   "execution_count": 74,
   "metadata": {},
   "outputs": [
    {
     "name": "stdout",
     "output_type": "stream",
     "text": [
      "Test Results for Ridge Regression:\n",
      "*******************************\n",
      "Root mean squared error:  4525.175467148813\n",
      "R-squared:  0.14652648764739018\n",
      "Mean Absolute Error:  3473.6022367850105\n"
     ]
    }
   ],
   "source": [
    "print(\"Test Results for Ridge Regression:\")\n",
    "print(\"*******************************\")\n",
    "print(\"Root mean squared error: \", sqrt(mse(y_test, y_pred)))\n",
    "print(\"R-squared: \", r2_score(y_test, y_pred))\n",
    "print(\"Mean Absolute Error: \", mae(y_test, y_pred))"
   ]
  },
  {
   "cell_type": "markdown",
   "metadata": {},
   "source": [
    "# Feature Importance"
   ]
  },
  {
   "cell_type": "code",
   "execution_count": 75,
   "metadata": {},
   "outputs": [
    {
     "data": {
      "text/plain": [
       "Ridge(alpha=0.0001, copy_X=True, fit_intercept=True, max_iter=None,\n",
       "   normalize=False, random_state=None, solver='auto', tol=0.001)"
      ]
     },
     "execution_count": 75,
     "metadata": {},
     "output_type": "execute_result"
    }
   ],
   "source": [
    "## Building the model again with the best hyperparameters\n",
    "model = Ridge(alpha=0.0001)\n",
    "model.fit(X_train, y_train)"
   ]
  },
  {
   "cell_type": "code",
   "execution_count": 76,
   "metadata": {},
   "outputs": [
    {
     "name": "stdout",
     "output_type": "stream",
     "text": [
      "The features in order of importance are:\n",
      "--------------------------------------------------\n",
      "Product_Category_1\n",
      "Product_Category_3\n",
      "City_Category_C\n",
      "City_Category_A\n",
      "Gender_M\n",
      "Gender_F\n",
      "Age_51-55\n",
      "Age_0-17\n",
      "Age_18-25\n",
      "City_Category_B\n",
      "Occupation\n",
      "Age_55+\n",
      "Age_36-45\n",
      "Product_Category_2\n",
      "Stay_In_Current_City_Years_2\n",
      "Stay_In_Current_City_Years_0\n",
      "Age_46-50\n",
      "Stay_In_Current_City_Years_4+\n",
      "Stay_In_Current_City_Years_3\n",
      "Stay_In_Current_City_Years_1\n",
      "Age_26-35\n"
     ]
    }
   ],
   "source": [
    "indices = np.argsort(-abs(model.coef_))\n",
    "print(\"The features in order of importance are:\")\n",
    "print(50*'-')\n",
    "for feature in X.columns[indices]:\n",
    "    print(feature)"
   ]
  },
  {
   "cell_type": "markdown",
   "metadata": {},
   "source": [
    "# Model 3 Support Vector Regression"
   ]
  },
  {
   "cell_type": "code",
   "execution_count": 77,
   "metadata": {},
   "outputs": [],
   "source": [
    "#tuned_params = {'C': [0.0001, 0.001, 0.01, 0.1, 1, 10, 100, 1000, 10000, 100000], 'gamma': [0.0001, 0.001, 0.01, 0.1, 1, 10, 100, 1000, 10000, 100000]}\n",
    "#model = GridSearchCV(SVR(), tuned_params, scoring = 'neg_mean_absolute_error', cv=5, n_jobs=-1)\n",
    "#model.fit(X_train, y_train)\n",
    "## This takes around 20 minutes"
   ]
  },
  {
   "cell_type": "markdown",
   "metadata": {},
   "source": [
    "# Model 3 has TerminatedWorkerError, Skipping because I haven't been able to figure out how to get around it"
   ]
  },
  {
   "cell_type": "markdown",
   "metadata": {},
   "source": [
    "# Model 4 Random Forest Regression"
   ]
  },
  {
   "cell_type": "code",
   "execution_count": 78,
   "metadata": {},
   "outputs": [],
   "source": [
    "#tuned_params = {'n_estimators': [100, 200, 300, 400, 500], 'min_samples_split': [2, 5, 10], 'min_samples_leaf': [1, 2, 4]}\n",
    "#model = RandomizedSearchCV(RandomForestRegressor(), tuned_params, n_iter=20, scoring = 'neg_mean_absolute_error', cv=5, n_jobs=-1)\n",
    "#model.fit(X_train, y_train)"
   ]
  },
  {
   "cell_type": "code",
   "execution_count": 79,
   "metadata": {},
   "outputs": [],
   "source": [
    "# Model 4 has been ongoing for 30 minutes at a time so I am moving on"
   ]
  },
  {
   "cell_type": "markdown",
   "metadata": {},
   "source": [
    "# Model 6 Lasso Regression"
   ]
  },
  {
   "cell_type": "code",
   "execution_count": 80,
   "metadata": {},
   "outputs": [],
   "source": [
    "#tuned_params = {'n_estimators': [100, 200, 300, 400, 500], 'min_samples_split': [2, 5, 10], 'min_samples_leaf': [1, 2, 4]}\n",
    "#model = RandomizedSearchCV(RandomForestRegressor(), tuned_params, n_iter=20, scoring = 'neg_mean_absolute_error', cv=5, n_jobs=-1)\n",
    "#model.fit(X_train, y_train)"
   ]
  },
  {
   "cell_type": "code",
   "execution_count": 79,
   "metadata": {},
   "outputs": [
    {
     "ename": "KeyboardInterrupt",
     "evalue": "",
     "output_type": "error",
     "traceback": [
      "\u001b[1;31m---------------------------------------------------------------------------\u001b[0m",
      "\u001b[1;31mKeyboardInterrupt\u001b[0m                         Traceback (most recent call last)",
      "\u001b[1;32m<ipython-input-79-28b8715f290a>\u001b[0m in \u001b[0;36m<module>\u001b[1;34m\u001b[0m\n\u001b[0;32m      1\u001b[0m \u001b[0mtuned_params\u001b[0m \u001b[1;33m=\u001b[0m \u001b[1;33m{\u001b[0m\u001b[1;34m'alpha'\u001b[0m\u001b[1;33m:\u001b[0m \u001b[1;33m[\u001b[0m\u001b[1;36m0.0001\u001b[0m\u001b[1;33m,\u001b[0m \u001b[1;36m0.001\u001b[0m\u001b[1;33m,\u001b[0m \u001b[1;36m0.01\u001b[0m\u001b[1;33m,\u001b[0m \u001b[1;36m0.1\u001b[0m\u001b[1;33m,\u001b[0m \u001b[1;36m1\u001b[0m\u001b[1;33m,\u001b[0m \u001b[1;36m10\u001b[0m\u001b[1;33m,\u001b[0m \u001b[1;36m100\u001b[0m\u001b[1;33m,\u001b[0m \u001b[1;36m1000\u001b[0m\u001b[1;33m,\u001b[0m \u001b[1;36m10000\u001b[0m\u001b[1;33m,\u001b[0m \u001b[1;36m100000\u001b[0m\u001b[1;33m]\u001b[0m\u001b[1;33m}\u001b[0m\u001b[1;33m\u001b[0m\u001b[1;33m\u001b[0m\u001b[0m\n\u001b[0;32m      2\u001b[0m \u001b[0mmodel\u001b[0m \u001b[1;33m=\u001b[0m \u001b[0mGridSearchCV\u001b[0m\u001b[1;33m(\u001b[0m\u001b[0mLasso\u001b[0m\u001b[1;33m(\u001b[0m\u001b[1;33m)\u001b[0m\u001b[1;33m,\u001b[0m \u001b[0mtuned_params\u001b[0m\u001b[1;33m,\u001b[0m \u001b[0mscoring\u001b[0m \u001b[1;33m=\u001b[0m \u001b[1;34m'neg_mean_absolute_error'\u001b[0m\u001b[1;33m,\u001b[0m \u001b[0mcv\u001b[0m\u001b[1;33m=\u001b[0m\u001b[1;36m20\u001b[0m\u001b[1;33m,\u001b[0m \u001b[0mn_jobs\u001b[0m\u001b[1;33m=\u001b[0m\u001b[1;33m-\u001b[0m\u001b[1;36m1\u001b[0m\u001b[1;33m)\u001b[0m\u001b[1;33m\u001b[0m\u001b[1;33m\u001b[0m\u001b[0m\n\u001b[1;32m----> 3\u001b[1;33m \u001b[0mmodel\u001b[0m\u001b[1;33m.\u001b[0m\u001b[0mfit\u001b[0m\u001b[1;33m(\u001b[0m\u001b[0mX_train\u001b[0m\u001b[1;33m,\u001b[0m \u001b[0my_train\u001b[0m\u001b[1;33m)\u001b[0m\u001b[1;33m\u001b[0m\u001b[1;33m\u001b[0m\u001b[0m\n\u001b[0m",
      "\u001b[1;32m~\\Anaconda3\\lib\\site-packages\\sklearn\\model_selection\\_search.py\u001b[0m in \u001b[0;36mfit\u001b[1;34m(self, X, y, groups, **fit_params)\u001b[0m\n\u001b[0;32m    720\u001b[0m                 \u001b[1;32mreturn\u001b[0m \u001b[0mresults_container\u001b[0m\u001b[1;33m[\u001b[0m\u001b[1;36m0\u001b[0m\u001b[1;33m]\u001b[0m\u001b[1;33m\u001b[0m\u001b[1;33m\u001b[0m\u001b[0m\n\u001b[0;32m    721\u001b[0m \u001b[1;33m\u001b[0m\u001b[0m\n\u001b[1;32m--> 722\u001b[1;33m             \u001b[0mself\u001b[0m\u001b[1;33m.\u001b[0m\u001b[0m_run_search\u001b[0m\u001b[1;33m(\u001b[0m\u001b[0mevaluate_candidates\u001b[0m\u001b[1;33m)\u001b[0m\u001b[1;33m\u001b[0m\u001b[1;33m\u001b[0m\u001b[0m\n\u001b[0m\u001b[0;32m    723\u001b[0m \u001b[1;33m\u001b[0m\u001b[0m\n\u001b[0;32m    724\u001b[0m         \u001b[0mresults\u001b[0m \u001b[1;33m=\u001b[0m \u001b[0mresults_container\u001b[0m\u001b[1;33m[\u001b[0m\u001b[1;36m0\u001b[0m\u001b[1;33m]\u001b[0m\u001b[1;33m\u001b[0m\u001b[1;33m\u001b[0m\u001b[0m\n",
      "\u001b[1;32m~\\Anaconda3\\lib\\site-packages\\sklearn\\model_selection\\_search.py\u001b[0m in \u001b[0;36m_run_search\u001b[1;34m(self, evaluate_candidates)\u001b[0m\n\u001b[0;32m   1189\u001b[0m     \u001b[1;32mdef\u001b[0m \u001b[0m_run_search\u001b[0m\u001b[1;33m(\u001b[0m\u001b[0mself\u001b[0m\u001b[1;33m,\u001b[0m \u001b[0mevaluate_candidates\u001b[0m\u001b[1;33m)\u001b[0m\u001b[1;33m:\u001b[0m\u001b[1;33m\u001b[0m\u001b[1;33m\u001b[0m\u001b[0m\n\u001b[0;32m   1190\u001b[0m         \u001b[1;34m\"\"\"Search all candidates in param_grid\"\"\"\u001b[0m\u001b[1;33m\u001b[0m\u001b[1;33m\u001b[0m\u001b[0m\n\u001b[1;32m-> 1191\u001b[1;33m         \u001b[0mevaluate_candidates\u001b[0m\u001b[1;33m(\u001b[0m\u001b[0mParameterGrid\u001b[0m\u001b[1;33m(\u001b[0m\u001b[0mself\u001b[0m\u001b[1;33m.\u001b[0m\u001b[0mparam_grid\u001b[0m\u001b[1;33m)\u001b[0m\u001b[1;33m)\u001b[0m\u001b[1;33m\u001b[0m\u001b[1;33m\u001b[0m\u001b[0m\n\u001b[0m\u001b[0;32m   1192\u001b[0m \u001b[1;33m\u001b[0m\u001b[0m\n\u001b[0;32m   1193\u001b[0m \u001b[1;33m\u001b[0m\u001b[0m\n",
      "\u001b[1;32m~\\Anaconda3\\lib\\site-packages\\sklearn\\model_selection\\_search.py\u001b[0m in \u001b[0;36mevaluate_candidates\u001b[1;34m(candidate_params)\u001b[0m\n\u001b[0;32m    709\u001b[0m                                \u001b[1;32mfor\u001b[0m \u001b[0mparameters\u001b[0m\u001b[1;33m,\u001b[0m \u001b[1;33m(\u001b[0m\u001b[0mtrain\u001b[0m\u001b[1;33m,\u001b[0m \u001b[0mtest\u001b[0m\u001b[1;33m)\u001b[0m\u001b[1;33m\u001b[0m\u001b[1;33m\u001b[0m\u001b[0m\n\u001b[0;32m    710\u001b[0m                                in product(candidate_params,\n\u001b[1;32m--> 711\u001b[1;33m                                           cv.split(X, y, groups)))\n\u001b[0m\u001b[0;32m    712\u001b[0m \u001b[1;33m\u001b[0m\u001b[0m\n\u001b[0;32m    713\u001b[0m                 \u001b[0mall_candidate_params\u001b[0m\u001b[1;33m.\u001b[0m\u001b[0mextend\u001b[0m\u001b[1;33m(\u001b[0m\u001b[0mcandidate_params\u001b[0m\u001b[1;33m)\u001b[0m\u001b[1;33m\u001b[0m\u001b[1;33m\u001b[0m\u001b[0m\n",
      "\u001b[1;32m~\\Anaconda3\\lib\\site-packages\\sklearn\\externals\\joblib\\parallel.py\u001b[0m in \u001b[0;36m__call__\u001b[1;34m(self, iterable)\u001b[0m\n\u001b[0;32m    928\u001b[0m \u001b[1;33m\u001b[0m\u001b[0m\n\u001b[0;32m    929\u001b[0m             \u001b[1;32mwith\u001b[0m \u001b[0mself\u001b[0m\u001b[1;33m.\u001b[0m\u001b[0m_backend\u001b[0m\u001b[1;33m.\u001b[0m\u001b[0mretrieval_context\u001b[0m\u001b[1;33m(\u001b[0m\u001b[1;33m)\u001b[0m\u001b[1;33m:\u001b[0m\u001b[1;33m\u001b[0m\u001b[1;33m\u001b[0m\u001b[0m\n\u001b[1;32m--> 930\u001b[1;33m                 \u001b[0mself\u001b[0m\u001b[1;33m.\u001b[0m\u001b[0mretrieve\u001b[0m\u001b[1;33m(\u001b[0m\u001b[1;33m)\u001b[0m\u001b[1;33m\u001b[0m\u001b[1;33m\u001b[0m\u001b[0m\n\u001b[0m\u001b[0;32m    931\u001b[0m             \u001b[1;31m# Make sure that we get a last message telling us we are done\u001b[0m\u001b[1;33m\u001b[0m\u001b[1;33m\u001b[0m\u001b[1;33m\u001b[0m\u001b[0m\n\u001b[0;32m    932\u001b[0m             \u001b[0melapsed_time\u001b[0m \u001b[1;33m=\u001b[0m \u001b[0mtime\u001b[0m\u001b[1;33m.\u001b[0m\u001b[0mtime\u001b[0m\u001b[1;33m(\u001b[0m\u001b[1;33m)\u001b[0m \u001b[1;33m-\u001b[0m \u001b[0mself\u001b[0m\u001b[1;33m.\u001b[0m\u001b[0m_start_time\u001b[0m\u001b[1;33m\u001b[0m\u001b[1;33m\u001b[0m\u001b[0m\n",
      "\u001b[1;32m~\\Anaconda3\\lib\\site-packages\\sklearn\\externals\\joblib\\parallel.py\u001b[0m in \u001b[0;36mretrieve\u001b[1;34m(self)\u001b[0m\n\u001b[0;32m    831\u001b[0m             \u001b[1;32mtry\u001b[0m\u001b[1;33m:\u001b[0m\u001b[1;33m\u001b[0m\u001b[1;33m\u001b[0m\u001b[0m\n\u001b[0;32m    832\u001b[0m                 \u001b[1;32mif\u001b[0m \u001b[0mgetattr\u001b[0m\u001b[1;33m(\u001b[0m\u001b[0mself\u001b[0m\u001b[1;33m.\u001b[0m\u001b[0m_backend\u001b[0m\u001b[1;33m,\u001b[0m \u001b[1;34m'supports_timeout'\u001b[0m\u001b[1;33m,\u001b[0m \u001b[1;32mFalse\u001b[0m\u001b[1;33m)\u001b[0m\u001b[1;33m:\u001b[0m\u001b[1;33m\u001b[0m\u001b[1;33m\u001b[0m\u001b[0m\n\u001b[1;32m--> 833\u001b[1;33m                     \u001b[0mself\u001b[0m\u001b[1;33m.\u001b[0m\u001b[0m_output\u001b[0m\u001b[1;33m.\u001b[0m\u001b[0mextend\u001b[0m\u001b[1;33m(\u001b[0m\u001b[0mjob\u001b[0m\u001b[1;33m.\u001b[0m\u001b[0mget\u001b[0m\u001b[1;33m(\u001b[0m\u001b[0mtimeout\u001b[0m\u001b[1;33m=\u001b[0m\u001b[0mself\u001b[0m\u001b[1;33m.\u001b[0m\u001b[0mtimeout\u001b[0m\u001b[1;33m)\u001b[0m\u001b[1;33m)\u001b[0m\u001b[1;33m\u001b[0m\u001b[1;33m\u001b[0m\u001b[0m\n\u001b[0m\u001b[0;32m    834\u001b[0m                 \u001b[1;32melse\u001b[0m\u001b[1;33m:\u001b[0m\u001b[1;33m\u001b[0m\u001b[1;33m\u001b[0m\u001b[0m\n\u001b[0;32m    835\u001b[0m                     \u001b[0mself\u001b[0m\u001b[1;33m.\u001b[0m\u001b[0m_output\u001b[0m\u001b[1;33m.\u001b[0m\u001b[0mextend\u001b[0m\u001b[1;33m(\u001b[0m\u001b[0mjob\u001b[0m\u001b[1;33m.\u001b[0m\u001b[0mget\u001b[0m\u001b[1;33m(\u001b[0m\u001b[1;33m)\u001b[0m\u001b[1;33m)\u001b[0m\u001b[1;33m\u001b[0m\u001b[1;33m\u001b[0m\u001b[0m\n",
      "\u001b[1;32m~\\Anaconda3\\lib\\site-packages\\sklearn\\externals\\joblib\\_parallel_backends.py\u001b[0m in \u001b[0;36mwrap_future_result\u001b[1;34m(future, timeout)\u001b[0m\n\u001b[0;32m    519\u001b[0m         AsyncResults.get from multiprocessing.\"\"\"\n\u001b[0;32m    520\u001b[0m         \u001b[1;32mtry\u001b[0m\u001b[1;33m:\u001b[0m\u001b[1;33m\u001b[0m\u001b[1;33m\u001b[0m\u001b[0m\n\u001b[1;32m--> 521\u001b[1;33m             \u001b[1;32mreturn\u001b[0m \u001b[0mfuture\u001b[0m\u001b[1;33m.\u001b[0m\u001b[0mresult\u001b[0m\u001b[1;33m(\u001b[0m\u001b[0mtimeout\u001b[0m\u001b[1;33m=\u001b[0m\u001b[0mtimeout\u001b[0m\u001b[1;33m)\u001b[0m\u001b[1;33m\u001b[0m\u001b[1;33m\u001b[0m\u001b[0m\n\u001b[0m\u001b[0;32m    522\u001b[0m         \u001b[1;32mexcept\u001b[0m \u001b[0mLokyTimeoutError\u001b[0m\u001b[1;33m:\u001b[0m\u001b[1;33m\u001b[0m\u001b[1;33m\u001b[0m\u001b[0m\n\u001b[0;32m    523\u001b[0m             \u001b[1;32mraise\u001b[0m \u001b[0mTimeoutError\u001b[0m\u001b[1;33m(\u001b[0m\u001b[1;33m)\u001b[0m\u001b[1;33m\u001b[0m\u001b[1;33m\u001b[0m\u001b[0m\n",
      "\u001b[1;32m~\\Anaconda3\\lib\\concurrent\\futures\\_base.py\u001b[0m in \u001b[0;36mresult\u001b[1;34m(self, timeout)\u001b[0m\n\u001b[0;32m    425\u001b[0m                 \u001b[1;32mreturn\u001b[0m \u001b[0mself\u001b[0m\u001b[1;33m.\u001b[0m\u001b[0m__get_result\u001b[0m\u001b[1;33m(\u001b[0m\u001b[1;33m)\u001b[0m\u001b[1;33m\u001b[0m\u001b[1;33m\u001b[0m\u001b[0m\n\u001b[0;32m    426\u001b[0m \u001b[1;33m\u001b[0m\u001b[0m\n\u001b[1;32m--> 427\u001b[1;33m             \u001b[0mself\u001b[0m\u001b[1;33m.\u001b[0m\u001b[0m_condition\u001b[0m\u001b[1;33m.\u001b[0m\u001b[0mwait\u001b[0m\u001b[1;33m(\u001b[0m\u001b[0mtimeout\u001b[0m\u001b[1;33m)\u001b[0m\u001b[1;33m\u001b[0m\u001b[1;33m\u001b[0m\u001b[0m\n\u001b[0m\u001b[0;32m    428\u001b[0m \u001b[1;33m\u001b[0m\u001b[0m\n\u001b[0;32m    429\u001b[0m             \u001b[1;32mif\u001b[0m \u001b[0mself\u001b[0m\u001b[1;33m.\u001b[0m\u001b[0m_state\u001b[0m \u001b[1;32min\u001b[0m \u001b[1;33m[\u001b[0m\u001b[0mCANCELLED\u001b[0m\u001b[1;33m,\u001b[0m \u001b[0mCANCELLED_AND_NOTIFIED\u001b[0m\u001b[1;33m]\u001b[0m\u001b[1;33m:\u001b[0m\u001b[1;33m\u001b[0m\u001b[1;33m\u001b[0m\u001b[0m\n",
      "\u001b[1;32m~\\Anaconda3\\lib\\threading.py\u001b[0m in \u001b[0;36mwait\u001b[1;34m(self, timeout)\u001b[0m\n\u001b[0;32m    294\u001b[0m         \u001b[1;32mtry\u001b[0m\u001b[1;33m:\u001b[0m    \u001b[1;31m# restore state no matter what (e.g., KeyboardInterrupt)\u001b[0m\u001b[1;33m\u001b[0m\u001b[1;33m\u001b[0m\u001b[0m\n\u001b[0;32m    295\u001b[0m             \u001b[1;32mif\u001b[0m \u001b[0mtimeout\u001b[0m \u001b[1;32mis\u001b[0m \u001b[1;32mNone\u001b[0m\u001b[1;33m:\u001b[0m\u001b[1;33m\u001b[0m\u001b[1;33m\u001b[0m\u001b[0m\n\u001b[1;32m--> 296\u001b[1;33m                 \u001b[0mwaiter\u001b[0m\u001b[1;33m.\u001b[0m\u001b[0macquire\u001b[0m\u001b[1;33m(\u001b[0m\u001b[1;33m)\u001b[0m\u001b[1;33m\u001b[0m\u001b[1;33m\u001b[0m\u001b[0m\n\u001b[0m\u001b[0;32m    297\u001b[0m                 \u001b[0mgotit\u001b[0m \u001b[1;33m=\u001b[0m \u001b[1;32mTrue\u001b[0m\u001b[1;33m\u001b[0m\u001b[1;33m\u001b[0m\u001b[0m\n\u001b[0;32m    298\u001b[0m             \u001b[1;32melse\u001b[0m\u001b[1;33m:\u001b[0m\u001b[1;33m\u001b[0m\u001b[1;33m\u001b[0m\u001b[0m\n",
      "\u001b[1;31mKeyboardInterrupt\u001b[0m: "
     ]
    }
   ],
   "source": [
    "#tuned_params = {'alpha': [0.0001, 0.001, 0.01, 0.1, 1, 10, 100, 1000, 10000, 100000]}\n",
    "#model = GridSearchCV(Lasso(), tuned_params, scoring = 'neg_mean_absolute_error', cv=20, n_jobs=-1)\n",
    "#model.fit(X_train, y_train)"
   ]
  },
  {
   "cell_type": "markdown",
   "metadata": {},
   "source": [
    "# At this point every model after the first two have been stuck in seemingly endless execution"
   ]
  },
  {
   "cell_type": "markdown",
   "metadata": {},
   "source": [
    "# Model 7 Decision Tree Regression\n"
   ]
  },
  {
   "cell_type": "code",
   "execution_count": 81,
   "metadata": {},
   "outputs": [
    {
     "data": {
      "text/plain": [
       "RandomizedSearchCV(cv=10, error_score='raise-deprecating',\n",
       "          estimator=DecisionTreeRegressor(criterion='mse', max_depth=None, max_features=None,\n",
       "           max_leaf_nodes=None, min_impurity_decrease=0.0,\n",
       "           min_impurity_split=None, min_samples_leaf=1,\n",
       "           min_samples_split=2, min_weight_fraction_leaf=0.0,\n",
       "           presort=False, random_state=None, splitter='best'),\n",
       "          fit_params=None, iid='warn', n_iter=20, n_jobs=-1,\n",
       "          param_distributions={'min_samples_split': [2, 3, 4, 5, 7], 'min_samples_leaf': [1, 2, 3, 4, 6], 'max_depth': [2, 3, 4, 5, 6, 7]},\n",
       "          pre_dispatch='2*n_jobs', random_state=None, refit=True,\n",
       "          return_train_score='warn', scoring='neg_mean_absolute_error',\n",
       "          verbose=0)"
      ]
     },
     "execution_count": 81,
     "metadata": {},
     "output_type": "execute_result"
    }
   ],
   "source": [
    "tuned_params = {'min_samples_split': [2, 3, 4, 5, 7], 'min_samples_leaf': [1, 2, 3, 4, 6], 'max_depth': [2, 3, 4, 5, 6, 7]}\n",
    "model = RandomizedSearchCV(DecisionTreeRegressor(), tuned_params, n_iter=20, scoring = 'neg_mean_absolute_error', cv=10, n_jobs=-1)\n",
    "model.fit(X_train, y_train)"
   ]
  },
  {
   "cell_type": "code",
   "execution_count": 82,
   "metadata": {},
   "outputs": [
    {
     "data": {
      "text/plain": [
       "DecisionTreeRegressor(criterion='mse', max_depth=7, max_features=None,\n",
       "           max_leaf_nodes=None, min_impurity_decrease=0.0,\n",
       "           min_impurity_split=None, min_samples_leaf=6,\n",
       "           min_samples_split=4, min_weight_fraction_leaf=0.0,\n",
       "           presort=False, random_state=None, splitter='best')"
      ]
     },
     "execution_count": 82,
     "metadata": {},
     "output_type": "execute_result"
    }
   ],
   "source": [
    "model.best_estimator_"
   ]
  },
  {
   "cell_type": "code",
   "execution_count": 83,
   "metadata": {},
   "outputs": [],
   "source": [
    "## Predict Train results\n",
    "y_train_pred = model.predict(X_train)"
   ]
  },
  {
   "cell_type": "code",
   "execution_count": 84,
   "metadata": {},
   "outputs": [],
   "source": [
    "## Predict Test results\n",
    "y_pred = model.predict(X_test)"
   ]
  },
  {
   "cell_type": "code",
   "execution_count": 85,
   "metadata": {},
   "outputs": [
    {
     "name": "stdout",
     "output_type": "stream",
     "text": [
      "Train Results for Decision Tree Regression:\n",
      "*******************************\n",
      "Root mean squared error:  2970.2473744180934\n",
      "R-squared:  0.6333408814598084\n",
      "Mean Absolute Error:  2248.598445831854\n"
     ]
    }
   ],
   "source": [
    "print(\"Train Results for Decision Tree Regression:\")\n",
    "print(\"*******************************\")\n",
    "print(\"Root mean squared error: \", sqrt(mse(y_train.values, y_train_pred)))\n",
    "print(\"R-squared: \", rs(y_train.values, y_train_pred))\n",
    "print(\"Mean Absolute Error: \", mae(y_train.values, y_train_pred))"
   ]
  },
  {
   "cell_type": "code",
   "execution_count": 86,
   "metadata": {},
   "outputs": [
    {
     "name": "stdout",
     "output_type": "stream",
     "text": [
      "Test Results for Decision Tree Regression:\n",
      "*******************************\n",
      "Root mean squared error:  2976.147709982116\n",
      "R-squared:  0.6308285024053202\n",
      "Mean Absolute Error:  2251.694150033407\n"
     ]
    }
   ],
   "source": [
    "print(\"Test Results for Decision Tree Regression:\")\n",
    "print(\"*******************************\")\n",
    "print(\"Root mean squared error: \", sqrt(mse(y_test, y_pred)))\n",
    "print(\"R-squared: \", rs(y_test, y_pred))\n",
    "print(\"Mean Absolute Error: \", mae(y_test, y_pred))"
   ]
  },
  {
   "cell_type": "markdown",
   "metadata": {},
   "source": [
    "# Model 8 KN Regression"
   ]
  },
  {
   "cell_type": "code",
   "execution_count": 87,
   "metadata": {},
   "outputs": [],
   "source": [
    "#from sklearn.model_selection import cross_val_score\n",
    "# creating odd list of K for KNN\n",
    "#neighbors = list(range(1,50,2))\n",
    "# empty list that will hold cv scores\n",
    "#cv_scores = []\n",
    "\n",
    "# perform 10-fold cross validation\n",
    "#for k in neighbors:\n",
    "#    knn = KNeighborsRegressor(n_neighbors=k)\n",
    "#    scores = cross_val_score(knn, X_train, y_train, cv=10, scoring='neg_mean_absolute_error')\n",
    "#    cv_scores.append(scores.mean())\n",
    "\n",
    "# changing to misclassification error\n",
    "#MSE = [1 - x for x in cv_scores]\n",
    "\n",
    "# determining best k\n",
    "#optimal_k = neighbors[MSE.index(min(MSE))]\n",
    "#print('\\nThe optimal number of neighbors is %d.' % optimal_k)"
   ]
  },
  {
   "cell_type": "markdown",
   "metadata": {},
   "source": [
    "# KN Regression also goes into endless execution"
   ]
  },
  {
   "cell_type": "markdown",
   "metadata": {},
   "source": [
    "# Comparing the three working models"
   ]
  },
  {
   "cell_type": "code",
   "execution_count": 88,
   "metadata": {},
   "outputs": [],
   "source": [
    "regComp = df = pd.read_csv('RegressionCompare.csv')"
   ]
  },
  {
   "cell_type": "code",
   "execution_count": 90,
   "metadata": {},
   "outputs": [
    {
     "data": {
      "text/html": [
       "<div>\n",
       "<style scoped>\n",
       "    .dataframe tbody tr th:only-of-type {\n",
       "        vertical-align: middle;\n",
       "    }\n",
       "\n",
       "    .dataframe tbody tr th {\n",
       "        vertical-align: top;\n",
       "    }\n",
       "\n",
       "    .dataframe thead th {\n",
       "        text-align: right;\n",
       "    }\n",
       "</style>\n",
       "<table border=\"1\" class=\"dataframe\">\n",
       "  <thead>\n",
       "    <tr style=\"text-align: right;\">\n",
       "      <th></th>\n",
       "      <th>Unnamed: 0</th>\n",
       "      <th>RMSE</th>\n",
       "      <th>RSquared</th>\n",
       "      <th>MAE</th>\n",
       "    </tr>\n",
       "  </thead>\n",
       "  <tbody>\n",
       "    <tr>\n",
       "      <th>0</th>\n",
       "      <td>BaseLineModel</td>\n",
       "      <td>4898.3390</td>\n",
       "      <td>-3.8890</td>\n",
       "      <td>3987.0184</td>\n",
       "    </tr>\n",
       "    <tr>\n",
       "      <th>1</th>\n",
       "      <td>RidgeRegression</td>\n",
       "      <td>4525.1750</td>\n",
       "      <td>0.1465</td>\n",
       "      <td>3473.6022</td>\n",
       "    </tr>\n",
       "    <tr>\n",
       "      <th>2</th>\n",
       "      <td>DecisionTreeRegression</td>\n",
       "      <td>2976.1477</td>\n",
       "      <td>0.6308</td>\n",
       "      <td>2251.6900</td>\n",
       "    </tr>\n",
       "  </tbody>\n",
       "</table>\n",
       "</div>"
      ],
      "text/plain": [
       "               Unnamed: 0       RMSE  RSquared        MAE\n",
       "0           BaseLineModel  4898.3390   -3.8890  3987.0184\n",
       "1         RidgeRegression  4525.1750    0.1465  3473.6022\n",
       "2  DecisionTreeRegression  2976.1477    0.6308  2251.6900"
      ]
     },
     "execution_count": 90,
     "metadata": {},
     "output_type": "execute_result"
    }
   ],
   "source": [
    "regComp.head()"
   ]
  },
  {
   "cell_type": "markdown",
   "metadata": {},
   "source": [
    "# observation:\n",
    "Out of the three models, the decision tree model looks to be the best model\n",
    "as its RMSE and MAE values are the lowest and its Rsquared value is closest to 1"
   ]
  },
  {
   "cell_type": "markdown",
   "metadata": {},
   "source": [
    "# Saving the winning model"
   ]
  },
  {
   "cell_type": "code",
   "execution_count": 92,
   "metadata": {},
   "outputs": [],
   "source": [
    "win_model = DecisionTreeRegressor(min_samples_split=4, min_samples_leaf=6, max_depth=7)\n",
    "win_model.fit(X_train, y_train)\n",
    "with open('rfr_BlackFriday 2.csv.pkl', 'wb') as pickle_file:\n",
    "       joblib.dump(win_model, 'rfr_BlackFriday 2.csv.pkl')"
   ]
  }
 ],
 "metadata": {
  "kernelspec": {
   "display_name": "Python 3",
   "language": "python",
   "name": "python3"
  },
  "language_info": {
   "codemirror_mode": {
    "name": "ipython",
    "version": 3
   },
   "file_extension": ".py",
   "mimetype": "text/x-python",
   "name": "python",
   "nbconvert_exporter": "python",
   "pygments_lexer": "ipython3",
   "version": "3.7.3"
  }
 },
 "nbformat": 4,
 "nbformat_minor": 2
}
